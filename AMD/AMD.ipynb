{
  "cells": [
    {
      "cell_type": "markdown",
      "metadata": {
        "id": "view-in-github",
        "colab_type": "text"
      },
      "source": [
        "<a href=\"https://colab.research.google.com/github/TommasoLocatelli/to-the-master-s-degree-and-beyond-/blob/main/AMD/AMD.ipynb\" target=\"_parent\"><img src=\"https://colab.research.google.com/assets/colab-badge.svg\" alt=\"Open In Colab\"/></a>"
      ]
    },
    {
      "cell_type": "markdown",
      "metadata": {
        "id": "72DXi49kuNNZ"
      },
      "source": [
        "# INSTRUCTIONS"
      ]
    },
    {
      "cell_type": "markdown",
      "metadata": {
        "id": "uv3W8idcuUKX"
      },
      "source": [
        "**Market-basket analysis**\n",
        "\n",
        "The task is to implement a system finding frequent itemsets (aka market-basket analysis), analyzing the «Ukraine Conflict Twitter» dataset that is published on Kaggle and released under the CC-BY-SA 4.0 license, with attribution required. The detector must consider as baskets the strings contained in the text column of the CSV files in the dataset, using words as items.\n",
        "\n",
        "**Solution**\n",
        "\n",
        "This notebook implement the Toivonen's algorithm."
      ]
    },
    {
      "cell_type": "markdown",
      "metadata": {
        "id": "AQxJP9uGuUOz"
      },
      "source": [
        "# LIBRARIES and FUNCTIONS"
      ]
    },
    {
      "cell_type": "markdown",
      "metadata": {
        "id": "eOqsUZ1c_dGI"
      },
      "source": [
        "Installing and importing libraries needed later."
      ]
    },
    {
      "cell_type": "code",
      "execution_count": 23,
      "metadata": {
        "id": "5v1qjZBFuNku"
      },
      "outputs": [],
      "source": [
        "import os"
      ]
    },
    {
      "cell_type": "code",
      "execution_count": 24,
      "metadata": {
        "id": "wlUK220Nutvb"
      },
      "outputs": [],
      "source": [
        "%%capture\n",
        "!pip install pyspark\n",
        "!pip install findspark\n",
        "!wget http://setup.johnsnowlabs.com/colab.sh -O - | bash"
      ]
    },
    {
      "cell_type": "code",
      "execution_count": 25,
      "metadata": {
        "id": "-h5yOX0Nuty0"
      },
      "outputs": [],
      "source": [
        "import numpy as np\n",
        "import pandas as pd\n",
        "import csv\n",
        "import os\n",
        "from pyspark.sql import SparkSession, Row\n",
        "import random\n",
        "import sparknlp\n",
        "import math\n",
        "\n",
        "from sparknlp.base import *\n",
        "from sparknlp.annotator import *\n",
        "from pyspark.ml import Pipeline"
      ]
    },
    {
      "cell_type": "code",
      "execution_count": 26,
      "metadata": {
        "id": "RNFU6zC4v4tV"
      },
      "outputs": [],
      "source": [
        "from operator import add\n",
        "import time"
      ]
    },
    {
      "cell_type": "markdown",
      "metadata": {
        "id": "GdbdqrUU_wt4"
      },
      "source": [
        "Functions needed in the pass over the sample section"
      ]
    },
    {
      "cell_type": "code",
      "execution_count": 27,
      "metadata": {
        "id": "8X_JWjXHm-ff"
      },
      "outputs": [],
      "source": [
        "def unpack(record):\n",
        "    unpacked_list = []\n",
        "    x=record\n",
        "    while type(x[0][0])!=str:\n",
        "      unpacked_list.append(x[1])\n",
        "      x=x[0]\n",
        "    unpacked_list.append(x[1])\n",
        "    unpacked_list.append(x[0])\n",
        "    return tuple(unpacked_list)\n",
        "\n",
        "def distinct_subtuple(record):\n",
        "  value=True\n",
        "  for i in range(len(record)):\n",
        "    for j in range(i+1,len(record)):\n",
        "      if record[i]==record[j]:\n",
        "        value=False\n",
        "  return value\n",
        "\n",
        "def words_tuple(record):\n",
        "  Set=set()\n",
        "  for t in record:\n",
        "    for w in t:\n",
        "      Set.add(w)\n",
        "  return tuple(Set)"
      ]
    },
    {
      "cell_type": "markdown",
      "metadata": {
        "id": "YWaFK-DvuOY5"
      },
      "source": [
        "# DATA PREPARATION"
      ]
    },
    {
      "cell_type": "markdown",
      "metadata": {
        "id": "H5ZoU_Hi6Y6K"
      },
      "source": [
        "## Download the data with the Kaggle API"
      ]
    },
    {
      "cell_type": "code",
      "execution_count": null,
      "metadata": {
        "id": "YwPDaVD9uOqt"
      },
      "outputs": [],
      "source": [
        "# Access token to kaggle\n",
        "\n",
        "os.environ[\"KAGGLE_USERNAME\"] = \"tommasolocatelli\"\n",
        "os.environ[\"KAGGLE_KEY\"] = str(hex(251792213593000947272027102748106226772))[2:]"
      ]
    },
    {
      "cell_type": "code",
      "execution_count": null,
      "metadata": {
        "colab": {
          "background_save": true
        },
        "id": "vhiNwwdgwDoH"
      },
      "outputs": [],
      "source": [
        "%%capture\n",
        "!kaggle datasets download -d bwandowando/ukraine-russian-crisis-twitter-dataset-1-2-m-rows\n",
        "!unzip ukraine-russian-crisis-twitter-dataset-1-2-m-rows.zip -d data"
      ]
    },
    {
      "cell_type": "code",
      "execution_count": null,
      "metadata": {
        "colab": {
          "background_save": true
        },
        "id": "vszprkVnwD3i"
      },
      "outputs": [],
      "source": [
        "# Move all *.gzip files to *.gz in order to have spark read directly the compressed file\n",
        "sh = \"\"\"\n",
        "for file in data/*.gzip; do\n",
        "    mv \"$file\" \"data/$(basename \"$file\" .gzip).gz\"\n",
        "done\n",
        "\"\"\"\n",
        "with open('script.sh', 'w') as file:\n",
        "  file.write(sh)\n",
        "\n",
        "!bash script.sh"
      ]
    },
    {
      "cell_type": "markdown",
      "metadata": {
        "id": "bvVX0r166dfE"
      },
      "source": [
        "## Ingest data in a spark context"
      ]
    },
    {
      "cell_type": "code",
      "execution_count": 28,
      "metadata": {
        "id": "bs-RibOEuOIX"
      },
      "outputs": [],
      "source": [
        "# Build spark context\n",
        "spark = sparknlp.start()\n",
        "sc = spark.sparkContext"
      ]
    },
    {
      "cell_type": "code",
      "execution_count": 29,
      "metadata": {
        "id": "Az0t985iw3ML"
      },
      "outputs": [],
      "source": [
        "# Choose which file to read\n",
        "FILENAME = r\"data/0819_UkraineCombinedTweetsDeduped.csv.gz\"\n",
        "raw_df = spark.read.csv(FILENAME, header=True, escape=\"\\\"\", quote=\"\\\"\", multiLine=True)"
      ]
    },
    {
      "cell_type": "code",
      "execution_count": 30,
      "metadata": {
        "id": "SJJkXZ_wzchS"
      },
      "outputs": [],
      "source": [
        "# Let's focus only on Italian tweets\n",
        "raw_df = raw_df.where(raw_df.language == \"it\").select(\"text\")"
      ]
    },
    {
      "cell_type": "code",
      "execution_count": 31,
      "metadata": {
        "colab": {
          "base_uri": "https://localhost:8080/",
          "height": 0
        },
        "id": "N-qfvnTi2Wow",
        "outputId": "b65da876-9869-4a80-8f4e-9113f518367a"
      },
      "outputs": [
        {
          "output_type": "execute_result",
          "data": {
            "text/plain": [
              "'Stesso fiuto politico, stesso naso x la sostanza. Stupefacente! Si è finalmente capito quale legame intellettuale leghi #SannaMarin e #Zelensky . ❄️☃️❄️'"
            ],
            "application/vnd.google.colaboratory.intrinsic+json": {
              "type": "string"
            }
          },
          "metadata": {},
          "execution_count": 31
        }
      ],
      "source": [
        "# Tweet example\n",
        "raw_df.head()['text']"
      ]
    },
    {
      "cell_type": "code",
      "execution_count": 32,
      "metadata": {
        "colab": {
          "base_uri": "https://localhost:8080/"
        },
        "id": "CAi0jjZY3MRB",
        "outputId": "33e35fbe-d7e5-46aa-ebf5-41861d92ed6f"
      },
      "outputs": [
        {
          "output_type": "execute_result",
          "data": {
            "text/plain": [
              "1898"
            ]
          },
          "metadata": {},
          "execution_count": 32
        }
      ],
      "source": [
        "# Number of tweets\n",
        "raw_df.count()"
      ]
    },
    {
      "cell_type": "markdown",
      "metadata": {
        "id": "nTXVDtol6vip"
      },
      "source": [
        "## Data cleaning"
      ]
    },
    {
      "cell_type": "code",
      "execution_count": 33,
      "metadata": {
        "colab": {
          "base_uri": "https://localhost:8080/"
        },
        "id": "rP7C25Ov6Ecu",
        "outputId": "11cd9bf5-6ea4-4c20-c1e6-e7f77f94f64b"
      },
      "outputs": [
        {
          "output_type": "stream",
          "name": "stdout",
          "text": [
            "stopwords_it download started this may take some time.\n",
            "Approximate size to download 2.4 KB\n",
            "[OK!]\n"
          ]
        }
      ],
      "source": [
        "# In this step we define a sparkNLP pipeline which will preprocess our data\n",
        "# by tokenizing it and removing unwanted tokens\n",
        "\n",
        "documentAssembler = DocumentAssembler() \\\n",
        "    .setInputCol(\"text\") \\\n",
        "    .setOutputCol(\"document\")\n",
        "\n",
        "tokenizer = Tokenizer() \\\n",
        "    .setInputCols([\"document\"]) \\\n",
        "    .setOutputCol(\"token\")\n",
        "\n",
        "linkRemover = Normalizer() \\\n",
        "    .setInputCols([\"token\"]) \\\n",
        "    .setOutputCol(\"tokensWoutLinks\") \\\n",
        "    .setCleanupPatterns([\"http\\S+|www\\S+|https\\S+\"]) \\\n",
        "    .setLowercase(True)\n",
        "\n",
        "punctuationRemover = Normalizer() \\\n",
        "    .setInputCols([\"tokensWoutLinks\"]) \\\n",
        "    .setOutputCol(\"tokensWoutLinksAndPuct\") \\\n",
        "    .setCleanupPatterns([\"(?U)[^\\w -]|_|-(?!\\w)|(?<!\\w)-\"])\n",
        "\n",
        "stopWordsCleaner = StopWordsCleaner.pretrained(\"stopwords_it\", \"it\") \\\n",
        "      .setInputCols(\"tokensWoutLinksAndPuct\")\\\n",
        "      .setOutputCol(\"cleanedTokens\")\\\n",
        "      .setCaseSensitive(False)\n",
        "\n",
        "stemmer = Stemmer() \\\n",
        "    .setInputCols([\"cleanedTokens\"]) \\\n",
        "    .setOutputCol(\"cleanedStemmedTokens\")\n",
        "\n",
        "pipeline = Pipeline().setStages([\n",
        "    documentAssembler,\n",
        "    tokenizer,\n",
        "    linkRemover,\n",
        "    punctuationRemover,\n",
        "    stopWordsCleaner,\n",
        "    stemmer\n",
        "])\n",
        "\n",
        "result = pipeline.fit(raw_df).transform(raw_df)\n",
        "\n",
        "cleaned_df = result.selectExpr(\"cleanedStemmedTokens.result\")"
      ]
    },
    {
      "cell_type": "markdown",
      "metadata": {
        "id": "SZTJXQvI97n4"
      },
      "source": [
        "## RDD"
      ]
    },
    {
      "cell_type": "code",
      "execution_count": 34,
      "metadata": {
        "id": "C2NgJuuX9Sc9"
      },
      "outputs": [],
      "source": [
        "#finally obtaining the rdd on which the analysis will be done\n",
        "input_rdd = cleaned_df.rdd.map(lambda x: (1,list(set(x[0]))))"
      ]
    },
    {
      "cell_type": "code",
      "execution_count": 35,
      "metadata": {
        "colab": {
          "base_uri": "https://localhost:8080/"
        },
        "id": "Oxo3k5Ef9a9J",
        "outputId": "1c08601b-7e66-4cea-a6fc-cba3e4f06379"
      },
      "outputs": [
        {
          "output_type": "execute_result",
          "data": {
            "text/plain": [
              "1"
            ]
          },
          "metadata": {},
          "execution_count": 35
        }
      ],
      "source": [
        "#check the actual number of partition\n",
        "input_rdd.getNumPartitions()"
      ]
    },
    {
      "cell_type": "markdown",
      "metadata": {
        "id": "dGmwiBXauPB5"
      },
      "source": [
        "# TOIVONEN STEP BY STEP"
      ]
    },
    {
      "cell_type": "markdown",
      "metadata": {
        "id": "q893OsR2CLDY"
      },
      "source": [
        "## Set the parametes and sample selection"
      ]
    },
    {
      "cell_type": "markdown",
      "metadata": {
        "id": "7L_2BcHvCaYz"
      },
      "source": [
        "Check the tot number of basket to choose a resonable support threshold"
      ]
    },
    {
      "cell_type": "code",
      "execution_count": null,
      "metadata": {
        "colab": {
          "base_uri": "https://localhost:8080/"
        },
        "id": "xfYljQCMpFv_",
        "outputId": "390f5106-1f8f-4b7c-c20e-0d8649902153"
      },
      "outputs": [
        {
          "name": "stdout",
          "output_type": "stream",
          "text": [
            "1898\n"
          ]
        }
      ],
      "source": [
        "number_of_baskets=input_rdd.count()\n",
        "print(number_of_baskets)"
      ]
    },
    {
      "cell_type": "markdown",
      "metadata": {
        "id": "ir3-MGfLCpjE"
      },
      "source": [
        "Parameters:\n",
        "\n",
        "1. **s** is the support threshold for the whole\n",
        "dataset\n",
        "2. **p** is the sample size fraction\n",
        "3. **a** is the regularization term"
      ]
    },
    {
      "cell_type": "code",
      "execution_count": null,
      "metadata": {
        "id": "qDHVOFWyCLP1"
      },
      "outputs": [],
      "source": [
        "s=170\n",
        "p=0.1\n",
        "a=0.95\n",
        "seed=1"
      ]
    },
    {
      "cell_type": "markdown",
      "metadata": {
        "id": "UUZcvKBECsjL"
      },
      "source": [
        "**t** is the threshold for the sample **t = a p s**"
      ]
    },
    {
      "cell_type": "code",
      "execution_count": null,
      "metadata": {
        "colab": {
          "base_uri": "https://localhost:8080/"
        },
        "id": "rlPyAR6FCvvk",
        "outputId": "3308aefb-f032-45d8-ec1c-4f671c5de653"
      },
      "outputs": [
        {
          "name": "stdout",
          "output_type": "stream",
          "text": [
            "16.15\n"
          ]
        }
      ],
      "source": [
        "t=a*p*s\n",
        "print(t)"
      ]
    },
    {
      "cell_type": "markdown",
      "metadata": {
        "id": "QeR697zuC6dG"
      },
      "source": [
        "\"The safest way to pick the sample is to read the entire dataset, and for each\n",
        "basket, select that basket for the sample with some fixed probability p. Suppose\n",
        "there are m baskets in the entire file. At the end, we shall have a sample whose\n",
        "size is very close to pm baskets. However, if we have reason to believe that the\n",
        "baskets appear in random order in the file already, then we do not even have\n",
        "to read the entire file. We can select the first pm baskets for our sample. Or, if\n",
        "the file is part of a distributed file system, we can pick some chunks at random\n",
        "to serve as the sample.\" Mining of massive dataset"
      ]
    },
    {
      "cell_type": "code",
      "execution_count": null,
      "metadata": {
        "id": "O-GckLt-CLxt"
      },
      "outputs": [],
      "source": [
        "sample_rdd=input_rdd.sample(False,p,seed)"
      ]
    },
    {
      "cell_type": "code",
      "execution_count": null,
      "metadata": {
        "colab": {
          "base_uri": "https://localhost:8080/"
        },
        "id": "l9qkN0MAC-p-",
        "outputId": "88802f5d-cc15-4e2b-ea07-ffd5369c2a08"
      },
      "outputs": [
        {
          "name": "stdout",
          "output_type": "stream",
          "text": [
            "183\n"
          ]
        }
      ],
      "source": [
        "actual_sample_size=sample_rdd.count()\n",
        "print(actual_sample_size)"
      ]
    },
    {
      "cell_type": "code",
      "execution_count": null,
      "metadata": {
        "colab": {
          "base_uri": "https://localhost:8080/"
        },
        "id": "uxw3DbKXC-uH",
        "outputId": "adfece43-427e-409d-87e4-ac990d4f33fa"
      },
      "outputs": [
        {
          "data": {
            "text/plain": [
              "189.8"
            ]
          },
          "execution_count": 19,
          "metadata": {},
          "output_type": "execute_result"
        }
      ],
      "source": [
        "p*number_of_baskets"
      ]
    },
    {
      "cell_type": "markdown",
      "metadata": {
        "id": "ZMCTwIRxDElx"
      },
      "source": [
        "It is needed to correct **t** as the actual sample size is different from the expected"
      ]
    },
    {
      "cell_type": "code",
      "execution_count": null,
      "metadata": {
        "colab": {
          "base_uri": "https://localhost:8080/"
        },
        "id": "UddhyVqxDEzl",
        "outputId": "65998fdb-88b3-4a34-dc71-277d099d866f"
      },
      "outputs": [
        {
          "name": "stdout",
          "output_type": "stream",
          "text": [
            "15.571390937829294\n"
          ]
        }
      ],
      "source": [
        "t=s*a*(actual_sample_size/number_of_baskets)\n",
        "print(t)"
      ]
    },
    {
      "cell_type": "markdown",
      "metadata": {
        "id": "AzzCzEZiHJMH"
      },
      "source": [
        "## aPriori"
      ]
    },
    {
      "cell_type": "markdown",
      "metadata": {
        "id": "u7d-bfikFxq4"
      },
      "source": [
        "To find the candidate in the sample I use an aPriori function developed by another project.\n",
        "\n",
        "https://github.com/ranieri-unimi/ukraine-malchiodi-2022/blob/main/ukraine.ipynb"
      ]
    },
    {
      "cell_type": "code",
      "execution_count": 36,
      "metadata": {
        "id": "GP39hDr8HaoL"
      },
      "outputs": [],
      "source": [
        "def is_sub(sub, lst) : return all(e in lst for e in sub)\n",
        "def add(a, b) : return a+b\n",
        "def splat(t): return tuple(sorted(list(j for i in t for j in (i if isinstance(i, tuple) else (i,)))))\n",
        "def doubled(t): return len(set(t)) == len(t)\n",
        "\n",
        "def aPriori(data, THRESHOLD):\n",
        "\n",
        "  frequent_items_pipe = (data\n",
        "                    .flatMap(lambda x: x[-1])\n",
        "                    .map(lambda x: (x,1))\n",
        "                    .reduceByKey(add)\n",
        "                    .filter(lambda x: x[-1] > THRESHOLD)\n",
        "                    )\n",
        "\n",
        "  frequent_items = frequent_items_pipe.collect()\n",
        "  frequent_items_pipe = frequent_items_pipe.map(lambda x: (1, x[0]))\n",
        "\n",
        "  frequent_itemsets = frequent_items\n",
        "  frequent_itemsets_pipe = frequent_items_pipe\n",
        "\n",
        "  while len(frequent_itemsets):\n",
        "    yield frequent_itemsets\n",
        "    ### COUNTING PHASE\n",
        "    candidate_itemsets_pipe = (frequent_itemsets_pipe\n",
        "                          .join(frequent_items_pipe)\n",
        "                          .map(lambda x : x[-1])\n",
        "                          .map(splat)\n",
        "                          .distinct()\n",
        "                          .filter(doubled)\n",
        "                          )\n",
        "    \n",
        "    candidate_itemsets = candidate_itemsets_pipe.collect()\n",
        "\n",
        "    ### FILTER PHASE\n",
        "    frequent_itemsets_pipe = (data\n",
        "                         .map(lambda x : [(pair, is_sub(pair, x[-1])) for pair in candidate_itemsets] )\n",
        "                         .flatMap(lambda x : x)\n",
        "                         .reduceByKey(add)\n",
        "                         .filter(lambda x: x[-1] > THRESHOLD)\n",
        "                         )\n",
        "    \n",
        "    frequent_itemsets = frequent_itemsets_pipe.collect()\n",
        "    frequent_itemsets_pipe = frequent_itemsets_pipe.map(lambda x: (1, x[0]))"
      ]
    },
    {
      "cell_type": "markdown",
      "metadata": {
        "id": "jWJ5jeiFCL-z"
      },
      "source": [
        "## Pass over the sample"
      ]
    },
    {
      "cell_type": "markdown",
      "metadata": {
        "id": "c8U_SIDpegbv"
      },
      "source": [
        "### step by step"
      ]
    },
    {
      "cell_type": "code",
      "execution_count": null,
      "metadata": {
        "id": "nv1c0k_NSaaF"
      },
      "outputs": [],
      "source": [
        "#all the singletons in the dataset\n",
        "singleton_itemsets_rdd=input_rdd.flatMap(lambda x: (x[1]))\\\n",
        "                                .distinct()\n",
        "\n",
        "#frequent itemstes generator\n",
        "fgen=aPriori(sample_rdd, t)\n",
        "\n",
        "#frequent singletons\n",
        "Candidates_singleton=sc.parallelize(next(fgen))\\\n",
        "                        .map(lambda x: (x[0]))\n",
        "\n",
        "#all the singletons not frequent in the sample\n",
        "NB_singleton_itemsets = singleton_itemsets_rdd.subtract(Candidates_singleton)"
      ]
    },
    {
      "cell_type": "code",
      "execution_count": null,
      "metadata": {
        "colab": {
          "base_uri": "https://localhost:8080/"
        },
        "id": "pfofEjwIX3Ck",
        "outputId": "cce9c15a-d7d4-4ffd-9200-692e18e579f7"
      },
      "outputs": [
        {
          "data": {
            "text/plain": [
              "['sostanza', 'capito', 'leghi']"
            ]
          },
          "execution_count": 50,
          "metadata": {},
          "output_type": "execute_result"
        }
      ],
      "source": [
        "singleton_itemsets_rdd.take(3)"
      ]
    },
    {
      "cell_type": "code",
      "execution_count": null,
      "metadata": {
        "colab": {
          "base_uri": "https://localhost:8080/"
        },
        "id": "nIHmC4bHX3Qy",
        "outputId": "6abf11fa-073d-4f8b-9e2e-3cd40e8fcbfa"
      },
      "outputs": [
        {
          "data": {
            "text/plain": [
              "9476"
            ]
          },
          "execution_count": 51,
          "metadata": {},
          "output_type": "execute_result"
        }
      ],
      "source": [
        "singleton_itemsets_rdd.count()"
      ]
    },
    {
      "cell_type": "code",
      "execution_count": null,
      "metadata": {
        "colab": {
          "base_uri": "https://localhost:8080/"
        },
        "id": "Wyg-jUItSmUC",
        "outputId": "69565bce-3104-44a1-b62d-831179f52d78"
      },
      "outputs": [
        {
          "data": {
            "text/plain": [
              "['sannamarin', 'zelenski', 'putin']"
            ]
          },
          "execution_count": 52,
          "metadata": {},
          "output_type": "execute_result"
        }
      ],
      "source": [
        "Candidates_singleton.take(3)"
      ]
    },
    {
      "cell_type": "code",
      "execution_count": null,
      "metadata": {
        "colab": {
          "base_uri": "https://localhost:8080/"
        },
        "id": "jsy_uMGpSykd",
        "outputId": "20a30dd8-c47b-4aff-94ec-4461a0a3a574"
      },
      "outputs": [
        {
          "data": {
            "text/plain": [
              "47"
            ]
          },
          "execution_count": 53,
          "metadata": {},
          "output_type": "execute_result"
        }
      ],
      "source": [
        "Candidates_singleton.count()"
      ]
    },
    {
      "cell_type": "code",
      "execution_count": null,
      "metadata": {
        "colab": {
          "base_uri": "https://localhost:8080/"
        },
        "id": "7Nj2ZLNaXuYA",
        "outputId": "8c99d8f4-3295-4a3b-b60f-a9381974b3a1"
      },
      "outputs": [
        {
          "data": {
            "text/plain": [
              "['sostanza', 'leghi', 'x']"
            ]
          },
          "execution_count": 54,
          "metadata": {},
          "output_type": "execute_result"
        }
      ],
      "source": [
        "NB_singleton_itemsets.take(3)"
      ]
    },
    {
      "cell_type": "code",
      "execution_count": null,
      "metadata": {
        "colab": {
          "base_uri": "https://localhost:8080/"
        },
        "id": "hHEYubNIXucy",
        "outputId": "ca33b728-0c66-46e5-ad12-3484b6fa9de4"
      },
      "outputs": [
        {
          "data": {
            "text/plain": [
              "9429"
            ]
          },
          "execution_count": 55,
          "metadata": {},
          "output_type": "execute_result"
        }
      ],
      "source": [
        "NB_singleton_itemsets.count()"
      ]
    },
    {
      "cell_type": "code",
      "execution_count": null,
      "metadata": {
        "id": "cFFy_YJONhCd"
      },
      "outputs": [],
      "source": [
        "#frequent couples\n",
        "Candidates_couple=sc.parallelize(next(fgen))\\\n",
        "                    .map(lambda x: x[0])\\\n",
        "                    .map(lambda x: tuple(sorted(list(x))))"
      ]
    },
    {
      "cell_type": "code",
      "execution_count": null,
      "metadata": {
        "colab": {
          "base_uri": "https://localhost:8080/"
        },
        "id": "3ZFnOh-QNoOb",
        "outputId": "082d3b50-d4ac-41f6-f6e5-e6ea112e0c05"
      },
      "outputs": [
        {
          "data": {
            "text/plain": [
              "[('russia', 'ucraina'), ('tv', 'ucraina')]"
            ]
          },
          "execution_count": 33,
          "metadata": {},
          "output_type": "execute_result"
        }
      ],
      "source": [
        "Candidates_couple.take(2)"
      ]
    },
    {
      "cell_type": "code",
      "execution_count": null,
      "metadata": {
        "colab": {
          "base_uri": "https://localhost:8080/"
        },
        "id": "gSMR3GTPNoRq",
        "outputId": "3102171f-1522-4b08-bc94-98fabcbd168e"
      },
      "outputs": [
        {
          "data": {
            "text/plain": [
              "116"
            ]
          },
          "execution_count": 34,
          "metadata": {},
          "output_type": "execute_result"
        }
      ],
      "source": [
        "Candidates_couple.count()"
      ]
    },
    {
      "cell_type": "code",
      "execution_count": null,
      "metadata": {
        "id": "DBuPFpepKkbg"
      },
      "outputs": [],
      "source": [
        "#negative border couples\n",
        "NB_couple=Candidates_singleton.cartesian(Candidates_singleton)\\\n",
        "                              .filter(lambda x: len(x)==len(set(x)))\\\n",
        "                              .map(lambda x: tuple(sorted(list(x))))\\\n",
        "                              .distinct()\\\n",
        "                              .subtract(Candidates_couple)"
      ]
    },
    {
      "cell_type": "code",
      "execution_count": null,
      "metadata": {
        "colab": {
          "base_uri": "https://localhost:8080/"
        },
        "id": "yRf73mQHLsH3",
        "outputId": "4d713688-a76e-4e70-f8d1-67d9f8f59984"
      },
      "outputs": [
        {
          "data": {
            "text/plain": [
              "[('sannamarin', 'zelenski'),\n",
              " ('russo', 'sannamarin'),\n",
              " ('russia', 'sannamarin'),\n",
              " ('president', 'sannamarin'),\n",
              " ('lucraina', 'sannamarin'),\n",
              " ('ucraina', 'zelenski'),\n",
              " ('crimea', 'zelenski'),\n",
              " ('missili', 'putin'),\n",
              " ('medvedev', 'putin'),\n",
              " ('19agosto', 'putin')]"
            ]
          },
          "execution_count": 38,
          "metadata": {},
          "output_type": "execute_result"
        }
      ],
      "source": [
        "NB_couple.take(10)"
      ]
    },
    {
      "cell_type": "code",
      "execution_count": null,
      "metadata": {
        "colab": {
          "base_uri": "https://localhost:8080/"
        },
        "id": "L0rqWvcSLsPj",
        "outputId": "68929946-0ed6-472e-9fad-42175c222f3c"
      },
      "outputs": [
        {
          "data": {
            "text/plain": [
              "965"
            ]
          },
          "execution_count": 39,
          "metadata": {},
          "output_type": "execute_result"
        }
      ],
      "source": [
        "NB_couple.count()"
      ]
    },
    {
      "cell_type": "code",
      "execution_count": null,
      "metadata": {
        "id": "lfkrzgCQOD0h"
      },
      "outputs": [],
      "source": [
        "# frequent triples\n",
        "Candidates_triplet=sc.parallelize(next(fgen))\\\n",
        "                              .map(lambda x: x[0])\\\n",
        "                              .map(lambda x: tuple(sorted(list(x))))"
      ]
    },
    {
      "cell_type": "code",
      "execution_count": null,
      "metadata": {
        "colab": {
          "base_uri": "https://localhost:8080/"
        },
        "id": "ro1TO4LkOV3L",
        "outputId": "95cf982a-bcb5-4fb8-c235-4daa47897670"
      },
      "outputs": [
        {
          "data": {
            "text/plain": [
              "[('2022', 'tv', 'ucraina'), ('homepag', 'tv', 'ucraina')]"
            ]
          },
          "execution_count": 41,
          "metadata": {},
          "output_type": "execute_result"
        }
      ],
      "source": [
        "Candidates_triplet.take(2)"
      ]
    },
    {
      "cell_type": "code",
      "execution_count": null,
      "metadata": {
        "colab": {
          "base_uri": "https://localhost:8080/"
        },
        "id": "DdHO12MYOV9N",
        "outputId": "43243892-6895-4258-dcc2-6729516a8445"
      },
      "outputs": [
        {
          "data": {
            "text/plain": [
              "455"
            ]
          },
          "execution_count": 42,
          "metadata": {},
          "output_type": "execute_result"
        }
      ],
      "source": [
        "Candidates_triplet.count()"
      ]
    },
    {
      "cell_type": "code",
      "execution_count": null,
      "metadata": {
        "id": "0Q7MJMgAkdo5"
      },
      "outputs": [],
      "source": [
        "NB_triplet=Candidates_couple.cartesian(Candidates_couple)\\\n",
        "                            .cartesian(Candidates_couple)\\\n",
        "                            .map(unpack)\\\n",
        "                            .filter(distinct_subtuple)\\\n",
        "                            .map(words_tuple)\\\n",
        "                            .filter(lambda x: len(x)==3)\\\n",
        "                            .map(lambda x: tuple(sorted(list(x))))\\\n",
        "                            .distinct()\\\n",
        "                            .subtract(Candidates_triplet)"
      ]
    },
    {
      "cell_type": "code",
      "execution_count": null,
      "metadata": {
        "colab": {
          "base_uri": "https://localhost:8080/"
        },
        "id": "yC0HAROGkmhQ",
        "outputId": "e9fd8b72-78db-4bef-99b4-30effb397f73"
      },
      "outputs": [
        {
          "data": {
            "text/plain": [
              "[('putin', 'russia', 'ucraina')]"
            ]
          },
          "execution_count": 47,
          "metadata": {},
          "output_type": "execute_result"
        }
      ],
      "source": [
        "NB_triplet.take(1)"
      ]
    },
    {
      "cell_type": "code",
      "execution_count": null,
      "metadata": {
        "colab": {
          "base_uri": "https://localhost:8080/"
        },
        "id": "3MXFJC8Jt5MK",
        "outputId": "e6e224f7-3c7a-4db1-b972-692551231def"
      },
      "outputs": [
        {
          "data": {
            "text/plain": [
              "2"
            ]
          },
          "execution_count": 48,
          "metadata": {},
          "output_type": "execute_result"
        }
      ],
      "source": [
        "NB_triplet.count()"
      ]
    },
    {
      "cell_type": "markdown",
      "metadata": {
        "id": "yHIN2HXpekCh"
      },
      "source": [
        "### generalization"
      ]
    },
    {
      "cell_type": "markdown",
      "metadata": {
        "id": "ueOf4BpUueFv"
      },
      "source": [
        "**Problem**\n",
        "\n",
        "How to obtain the sets with cardinality n that have to belong to the negative border given the sets of cardinality n-1 frequent in the sample.\n",
        "\n",
        "**Procedure**\n",
        "\n",
        "1. take the rdd of tuples representing itemsets frequent in the sample and cycle the cartesian product with itself n-1 times, and unpack the result in order to obtain a tuple with n elements each being a tuple of n-1 elements\n",
        "\n",
        "2. filter out the tuples that have repetitions inside\n",
        "\n",
        "3. for each tuple of tuples obtain a tuple of the distinct words\n",
        "\n",
        "4. filter out the tuples with len different from n\n",
        "\n",
        "5. sort them and take the dinstinct tuples\n",
        "\n",
        "6. subtract the tuples the are frequent\n",
        "\n",
        "**\"Proof\"**\n",
        "\n",
        "if the len of the tuple is equal to n in step 4, it means that there are n differe subtuples frequent in the sample made just of the words inside the tuple take into account, so all the subsets are frequent. By filtering out the tuples frequent in the step 6 we obtain exactly the negative border."
      ]
    },
    {
      "cell_type": "code",
      "execution_count": 37,
      "metadata": {
        "id": "BPktCCT1emXV"
      },
      "outputs": [],
      "source": [
        "def pass_over_the_sample(input_rdd,sample_rdd,t):\n",
        "\n",
        "  #all the singletons in the dataset\n",
        "  singleton_itemsets_rdd=input_rdd.flatMap(lambda x: x[1])\\\n",
        "                                  .distinct()\n",
        "  #frequent itemstes generator\n",
        "  fgen=aPriori(sample_rdd, t)\n",
        "\n",
        "  #frequent singletons\n",
        "  Candidates_singleton=sc.parallelize(next(fgen))\\\n",
        "                          .map(lambda x: x[0])\n",
        "\n",
        "  #all the singletons not frequent in the sample\n",
        "  NB_singleton_itemsets = singleton_itemsets_rdd.subtract(Candidates_singleton)\n",
        "\n",
        "  Candidates=Candidates_singleton.map(lambda x: (x,))\n",
        "  Negative_border=NB_singleton_itemsets.map(lambda x: (x,))\n",
        "\n",
        "  #initialize the cardinality counter\n",
        "  n=1\n",
        "  #initialize the precedent candidats\n",
        "  prec_Candidates_tuple=Candidates_singleton\n",
        "\n",
        "  while True:\n",
        "    n+=1\n",
        "    try:\n",
        "      # frequent tuples\n",
        "      Candidates_tuple=sc.parallelize(next(fgen))\\\n",
        "                              .map(lambda x: x[0])\\\n",
        "                              .map(lambda x: tuple(sorted(list(x))))\n",
        "      #step 1\n",
        "      NB_tuple=prec_Candidates_tuple\n",
        "      for i in range(n-1):\n",
        "        NB_tuple=NB_tuple.cartesian(prec_Candidates_tuple)\n",
        "      NB_tuple=NB_tuple.map(unpack)\n",
        "\n",
        "      #step 2-6\n",
        "      NB_tuple=NB_tuple.filter(distinct_subtuple)\\\n",
        "                        .map(words_tuple)\\\n",
        "                        .filter(lambda x: len(x)==n)\\\n",
        "                        .map(lambda x: tuple(sorted(list(x))))\\\n",
        "                        .distinct()\\\n",
        "                        .subtract(Candidates_tuple)\n",
        "\n",
        "      Candidates+=Candidates_tuple\n",
        "      Negative_border+=NB_tuple\n",
        "\n",
        "      prec_Candidates_tuple=Candidates_tuple\n",
        "\n",
        "    except:\n",
        "      #step1\n",
        "      NB_tuple=prec_Candidates_tuple\n",
        "      for i in range(n-1):\n",
        "        NB_tuple=NB_tuple.cartesian(prec_Candidates_tuple)\n",
        "      NB_tuple=NB_tuple.map(unpack)\n",
        "\n",
        "      #step 2-5\n",
        "      NB_tuple=NB_tuple.filter(distinct_subtuple)\\\n",
        "                        .map(words_tuple)\\\n",
        "                        .filter(lambda x: len(x)==n)\\\n",
        "                        .map(lambda x: tuple(sorted(list(x))))\\\n",
        "                        .distinct()\n",
        "\n",
        "      Negative_border+=NB_tuple\n",
        "      break\n",
        "      \n",
        "  return Candidates,Negative_border"
      ]
    },
    {
      "cell_type": "code",
      "execution_count": null,
      "metadata": {
        "id": "ahbmCzM9vAoj"
      },
      "outputs": [],
      "source": [
        "# validation on the book example\n",
        "sample_list=[(1,['B','C']),(1,['B','C']),(1,['C','D']),(1,['C','D']),(1,['A']),(1,['A'])]\n",
        "#sample_list+=[(1,['B','D']),(1,['B','D'])] # if you want to test an higher cardinality negative border set\n",
        "input_list=sample_list+[(1,['E'])]\n",
        "\n",
        "input=sc.parallelize(input_list)\n",
        "sample=sc.parallelize(sample_list)"
      ]
    },
    {
      "cell_type": "code",
      "execution_count": null,
      "metadata": {
        "id": "T-8NwIkrCMsh"
      },
      "outputs": [],
      "source": [
        "C,NB=pass_over_the_sample(input,sample,1)"
      ]
    },
    {
      "cell_type": "code",
      "execution_count": null,
      "metadata": {
        "colab": {
          "base_uri": "https://localhost:8080/"
        },
        "id": "aO6sCqLgCMv8",
        "outputId": "06061fce-11c2-4cf6-b19e-8b5280f93f99"
      },
      "outputs": [
        {
          "data": {
            "text/plain": [
              "[('C',), ('B',), ('D',), ('A',), ('B', 'C'), ('C', 'D')]"
            ]
          },
          "execution_count": 25,
          "metadata": {},
          "output_type": "execute_result"
        }
      ],
      "source": [
        "C.collect()"
      ]
    },
    {
      "cell_type": "code",
      "execution_count": null,
      "metadata": {
        "colab": {
          "base_uri": "https://localhost:8080/"
        },
        "id": "W2hBb4sXCNNo",
        "outputId": "aaa562e4-afa0-4da6-dd55-39b9ce40232b"
      },
      "outputs": [
        {
          "data": {
            "text/plain": [
              "[('E',), ('A', 'B'), ('B', 'D'), ('A', 'D'), ('A', 'C')]"
            ]
          },
          "execution_count": 26,
          "metadata": {},
          "output_type": "execute_result"
        }
      ],
      "source": [
        "NB.collect()"
      ]
    },
    {
      "cell_type": "markdown",
      "metadata": {
        "id": "Hq_D9owwCMVN"
      },
      "source": [
        "## Pass over the entire dataset"
      ]
    },
    {
      "cell_type": "code",
      "execution_count": null,
      "metadata": {
        "id": "Cs2yHZrVhapa"
      },
      "outputs": [],
      "source": [
        "candidates,negative_border=pass_over_the_sample(input_rdd,sample_rdd,t)"
      ]
    },
    {
      "cell_type": "code",
      "execution_count": null,
      "metadata": {
        "colab": {
          "base_uri": "https://localhost:8080/"
        },
        "id": "RKTDJ_31zEBX",
        "outputId": "29edea52-69a2-4243-ec99-b419c70428b1"
      },
      "outputs": [
        {
          "data": {
            "text/plain": [
              "[('putin',),\n",
              " ('zelenski',),\n",
              " ('russia',),\n",
              " ('nato',),\n",
              " ('ucraina',),\n",
              " ('guerra',),\n",
              " ('putin', 'russia')]"
            ]
          },
          "execution_count": 29,
          "metadata": {},
          "output_type": "execute_result"
        }
      ],
      "source": [
        "candidates.collect()"
      ]
    },
    {
      "cell_type": "code",
      "execution_count": null,
      "metadata": {
        "colab": {
          "base_uri": "https://localhost:8080/"
        },
        "id": "2kxC5u-MzMUF",
        "outputId": "93e773af-8ba6-441f-89fe-3a9683bd4cf3"
      },
      "outputs": [
        {
          "data": {
            "text/plain": [
              "9470"
            ]
          },
          "execution_count": 30,
          "metadata": {},
          "output_type": "execute_result"
        }
      ],
      "source": [
        "negative_border.count()"
      ]
    },
    {
      "cell_type": "code",
      "execution_count": 38,
      "metadata": {
        "id": "K1sxtzbthtdg"
      },
      "outputs": [],
      "source": [
        "def pass_over_the_entire_dataset(input_rdd,cands,nb,s):\n",
        "  #check the negative border\n",
        "  num_nb_frequent_itemsets=input_rdd.map(lambda x: x[1])\\\n",
        "        .cartesian(nb)\\\n",
        "        .filter(lambda x: set(x[1]).issubset(set(x[0])))\\\n",
        "        .map(lambda x: (x[1],1))\\\n",
        "        .reduceByKey(add)\\\n",
        "        .filter(lambda x: x[1]>s).count()\n",
        "  if num_nb_frequent_itemsets==0:\n",
        "    #check the candidates\n",
        "    frequent_itemsets=input_rdd.map(lambda x: x[1])\\\n",
        "        .cartesian(cands)\\\n",
        "        .filter(lambda x: set(x[1]).issubset(set(x[0])))\\\n",
        "        .map(lambda x: (x[1],1))\\\n",
        "        .reduceByKey(add)\\\n",
        "        .filter(lambda x: x[1]>s)\n",
        "    response=frequent_itemsets\n",
        "  else:\n",
        "    response=f'{num_nb_frequent_itemsets} sets in the negative border happen to be frequent in the dataset!'\n",
        "  return response"
      ]
    },
    {
      "cell_type": "code",
      "execution_count": null,
      "metadata": {
        "id": "kEVhviJbz7Ga"
      },
      "outputs": [],
      "source": [
        "response=pass_over_the_entire_dataset(input_rdd,candidates,negative_border,s)"
      ]
    },
    {
      "cell_type": "code",
      "execution_count": null,
      "metadata": {
        "colab": {
          "base_uri": "https://localhost:8080/"
        },
        "id": "GTTKifJr0WX7",
        "outputId": "5e5f8480-09fc-45db-e322-8519b658275b"
      },
      "outputs": [
        {
          "data": {
            "text/plain": [
              "[(('zelenski',), 211),\n",
              " (('russia',), 550),\n",
              " (('ucraina',), 421),\n",
              " (('nato',), 214),\n",
              " (('putin', 'russia'), 174),\n",
              " (('putin',), 636)]"
            ]
          },
          "execution_count": 34,
          "metadata": {},
          "output_type": "execute_result"
        }
      ],
      "source": [
        "response.collect()"
      ]
    },
    {
      "cell_type": "markdown",
      "metadata": {
        "id": "0PMB8kZOfHGH"
      },
      "source": [
        "# FINAL ALGORITHM and APPLICATION"
      ]
    },
    {
      "cell_type": "code",
      "execution_count": 39,
      "metadata": {
        "id": "ExVkkQyRfLWU"
      },
      "outputs": [],
      "source": [
        "def toivonen(input_rdd,s,p,a,seed):\n",
        "  start_time = time.time()\n",
        "  \n",
        "  #parameters and sample selection\n",
        "  number_of_baskets=input_rdd.count()\n",
        "  sample_rdd=input_rdd.sample(False,p,seed)\n",
        "  actual_sample_size=sample_rdd.count()\n",
        "  t=s*a*(actual_sample_size/number_of_baskets)\n",
        "  mid_time=time.time()\n",
        "  print(f'Sample selection ended after {mid_time - start_time} seconds')\n",
        "\n",
        "  #pass over the sample\n",
        "  candidates,negative_border=pass_over_the_sample(input_rdd,sample_rdd,t)\n",
        "  mid_time2=time.time()\n",
        "  print(f'Pass over the sample ended after {mid_time2 - mid_time} seconds')\n",
        "\n",
        "  #pass over the entire dataset\n",
        "  response=pass_over_the_entire_dataset(input_rdd,candidates,negative_border,s)\n",
        "  fin_time=time.time()\n",
        "  print(f'Pass over the entire dataset ended after {fin_time - mid_time2} seconds')\n",
        "\n",
        "  return response"
      ]
    },
    {
      "cell_type": "markdown",
      "metadata": {
        "id": "5MWT3A_tIrJ8"
      },
      "source": [
        "Experiment 1"
      ]
    },
    {
      "cell_type": "code",
      "execution_count": 54,
      "metadata": {
        "id": "lldcvEk9pdfE"
      },
      "outputs": [],
      "source": [
        "s=170\n",
        "p=0.05\n",
        "a=0.95\n",
        "seed=2"
      ]
    },
    {
      "cell_type": "code",
      "execution_count": 55,
      "metadata": {
        "colab": {
          "base_uri": "https://localhost:8080/"
        },
        "id": "UonEQ4SjpLUS",
        "outputId": "7080e096-4d5a-4adc-d9cf-372d54955e43"
      },
      "outputs": [
        {
          "output_type": "stream",
          "name": "stdout",
          "text": [
            "Sample selection ended after 5.090605974197388 seconds\n",
            "Pass over the sample ended after 8.51623249053955 seconds\n",
            "Pass over the entire dataset ended after 58.71092963218689 seconds\n"
          ]
        }
      ],
      "source": [
        "response=toivonen(input_rdd,s,p,a,seed)"
      ]
    },
    {
      "cell_type": "code",
      "execution_count": 56,
      "metadata": {
        "colab": {
          "base_uri": "https://localhost:8080/"
        },
        "id": "tYA2L3lsq-vO",
        "outputId": "e0dc720a-edfd-4840-ed06-b3f6a7631846"
      },
      "outputs": [
        {
          "output_type": "stream",
          "name": "stdout",
          "text": [
            "1 sets in the negative border happen to be frequent in the dataset!\n"
          ]
        }
      ],
      "source": [
        "if type(response) is str:\n",
        "  print(response)\n",
        "else:\n",
        "  print(f'There are {response.count()} frequent itemsets')"
      ]
    },
    {
      "cell_type": "markdown",
      "metadata": {
        "id": "T_AutW-EJStL"
      },
      "source": [
        "Experiment 2"
      ]
    },
    {
      "cell_type": "code",
      "execution_count": 57,
      "metadata": {
        "id": "g4qspLl3JUHO"
      },
      "outputs": [],
      "source": [
        "s=170\n",
        "p=0.05\n",
        "a=0.7\n",
        "seed=2"
      ]
    },
    {
      "cell_type": "code",
      "execution_count": 58,
      "metadata": {
        "colab": {
          "base_uri": "https://localhost:8080/"
        },
        "id": "KTE3eOm2JWL6",
        "outputId": "b5d05cc3-a195-4c8f-fa14-b41607817ad5"
      },
      "outputs": [
        {
          "output_type": "stream",
          "name": "stdout",
          "text": [
            "Sample selection ended after 4.862320423126221 seconds\n",
            "Pass over the sample ended after 8.253049850463867 seconds\n",
            "Pass over the entire dataset ended after 58.59363532066345 seconds\n"
          ]
        }
      ],
      "source": [
        "response=toivonen(input_rdd,s,p,a,seed)"
      ]
    },
    {
      "cell_type": "code",
      "execution_count": 59,
      "metadata": {
        "colab": {
          "base_uri": "https://localhost:8080/"
        },
        "id": "zstJ1MNVJYOj",
        "outputId": "c345232c-94aa-4d00-d931-9ceb0dc88c99"
      },
      "outputs": [
        {
          "output_type": "stream",
          "name": "stdout",
          "text": [
            "There are 6 frequent itemsets\n"
          ]
        }
      ],
      "source": [
        "if type(response) is str:\n",
        "  print(response)\n",
        "else:\n",
        "  print(f'There are {response.count()} frequent itemsets')"
      ]
    },
    {
      "cell_type": "code",
      "source": [
        "response.collect()"
      ],
      "metadata": {
        "colab": {
          "base_uri": "https://localhost:8080/"
        },
        "id": "O2tvKQw5n_Wy",
        "outputId": "1af9e34e-8181-4401-8e0d-d44a31395847"
      },
      "execution_count": 60,
      "outputs": [
        {
          "output_type": "execute_result",
          "data": {
            "text/plain": [
              "[(('ucraina',), 421),\n",
              " (('russia',), 550),\n",
              " (('zelenski',), 211),\n",
              " (('nato',), 214),\n",
              " (('putin', 'russia'), 174),\n",
              " (('putin',), 636)]"
            ]
          },
          "metadata": {},
          "execution_count": 60
        }
      ]
    }
  ],
  "metadata": {
    "colab": {
      "collapsed_sections": [
        "72DXi49kuNNZ",
        "AQxJP9uGuUOz",
        "YWaFK-DvuOY5",
        "H5ZoU_Hi6Y6K",
        "bvVX0r166dfE",
        "nTXVDtol6vip",
        "SZTJXQvI97n4",
        "q893OsR2CLDY",
        "AzzCzEZiHJMH",
        "c8U_SIDpegbv",
        "yHIN2HXpekCh",
        "Hq_D9owwCMVN"
      ],
      "provenance": [],
      "authorship_tag": "ABX9TyOfGfH/0X5Og1o0ZEKCW2Ta",
      "include_colab_link": true
    },
    "kernelspec": {
      "display_name": "Python 3",
      "name": "python3"
    },
    "language_info": {
      "name": "python"
    }
  },
  "nbformat": 4,
  "nbformat_minor": 0
}
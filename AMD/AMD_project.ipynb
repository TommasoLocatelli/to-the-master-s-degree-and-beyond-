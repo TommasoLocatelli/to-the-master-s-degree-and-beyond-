{
  "nbformat": 4,
  "nbformat_minor": 0,
  "metadata": {
    "colab": {
      "provenance": [],
      "collapsed_sections": [],
      "authorship_tag": "ABX9TyNLFsJ1vERkqBY8LX000n5z",
      "include_colab_link": true
    },
    "kernelspec": {
      "name": "python3",
      "display_name": "Python 3"
    },
    "language_info": {
      "name": "python"
    }
  },
  "cells": [
    {
      "cell_type": "markdown",
      "metadata": {
        "id": "view-in-github",
        "colab_type": "text"
      },
      "source": [
        "<a href=\"https://colab.research.google.com/github/TommasoLocatelli/to-the-master-s-degree-and-beyond-/blob/main/AMD/AMD_project.ipynb\" target=\"_parent\"><img src=\"https://colab.research.google.com/assets/colab-badge.svg\" alt=\"Open In Colab\"/></a>"
      ]
    },
    {
      "cell_type": "markdown",
      "source": [
        "# INSTRUCTION:\n",
        "\n",
        "## Market-basket analysis\n",
        "The task is to implement a system finding **frequent itemsets** (aka market-basket analysis), analyzing the **«Ukraine Conflict Twitter»** dataset that is published on Kaggle and released under the CC-BY-SA 4.0 license, with attribution required. The detector must consider as baskets the strings contained in the text column of the CSV files in the dataset, using words as items.\n",
        "\n",
        "Note that the CSV are quite big, thus provided in compressed form: you can refer for instance to this notebook (https://www.kaggle.com/stpeteishii/tweets-on-ukraine-crisis) in order to obtain a pandas dataframe directly from the compressed form. Note also that the instruction pd.set_option(\"display.max_columns\", None) might be needed in order to deal with the size of the obtained dataframe. You are also free to suitably size the number of cases in your dataset, provided that your code is able to scale up.\n"
      ],
      "metadata": {
        "id": "PqaHDdQnAp0X"
      }
    },
    {
      "cell_type": "code",
      "execution_count": null,
      "metadata": {
        "id": "vCTvWSoI_5CL"
      },
      "outputs": [],
      "source": []
    }
  ]
}
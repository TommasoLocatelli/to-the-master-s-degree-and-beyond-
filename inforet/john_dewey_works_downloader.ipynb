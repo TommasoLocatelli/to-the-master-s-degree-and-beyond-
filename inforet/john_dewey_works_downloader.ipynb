{
 "cells": [
  {
   "cell_type": "markdown",
   "id": "fff57812",
   "metadata": {},
   "source": [
    "# DOWNLOADER"
   ]
  },
  {
   "cell_type": "markdown",
   "id": "4dc991ac",
   "metadata": {},
   "source": [
    "## TAKE THE CORPUS"
   ]
  },
  {
   "cell_type": "code",
   "execution_count": null,
   "id": "c65c55ab",
   "metadata": {},
   "outputs": [],
   "source": [
    "from bs4 import BeautifulSoup\n",
    "import requests"
   ]
  },
  {
   "cell_type": "code",
   "execution_count": null,
   "id": "e6ff4337",
   "metadata": {},
   "outputs": [],
   "source": [
    "#take the first sip of soup\n",
    "url='http://pm.nlx.com/xtf/view?docId=dewey_ii/dewey_ii.00.xml;chunk.id=div.pmpreface.1.1;toc.depth=2;toc.id=div.pmpreface.1.1;hit.rank=0;brand=default'\n",
    "reps=requests.get(url)\n",
    "soup=BeautifulSoup(reps.text, 'lxml')"
   ]
  },
  {
   "cell_type": "code",
   "execution_count": null,
   "id": "0eb07594",
   "metadata": {},
   "outputs": [],
   "source": [
    "#deal with links\n",
    "url_base=url[0:22]\n",
    "volumes_raw_links=soup.find_all('a',class_='accordionLink')"
   ]
  },
  {
   "cell_type": "code",
   "execution_count": null,
   "id": "ec49c333",
   "metadata": {},
   "outputs": [],
   "source": [
    "volumes_raw_links[0:5]"
   ]
  },
  {
   "cell_type": "code",
   "execution_count": null,
   "id": "a5156bb7",
   "metadata": {},
   "outputs": [],
   "source": [
    "len(volumes_raw_links)"
   ]
  },
  {
   "cell_type": "code",
   "execution_count": null,
   "id": "f3c68f8c",
   "metadata": {},
   "outputs": [],
   "source": [
    "#save the structure\n",
    "volumes_links=[url_base+volumes_raw_links[i]['href'] for i in range(len(volumes_raw_links))]\n",
    "volumes_names=[volumes_raw_links[i].get_text() for i in range(len(volumes_raw_links))]\n",
    "volumes=list(zip(volumes_names,volumes_links))"
   ]
  },
  {
   "cell_type": "code",
   "execution_count": null,
   "id": "8e65f43d",
   "metadata": {
    "scrolled": true
   },
   "outputs": [],
   "source": [
    "volumes[0:5]"
   ]
  },
  {
   "cell_type": "code",
   "execution_count": null,
   "id": "b22acbc5",
   "metadata": {},
   "outputs": [],
   "source": [
    "#soup is the link for the overall author page\n",
    "#scoop is the link for the volume page\n",
    "#sip is the link for the work page\n",
    "\n",
    "#the corpus is taken as the set of sips for each scoop of the soup\n",
    "\n",
    "corpus=list()\n",
    "for volume_name, volume_link in volumes:\n",
    "    r=requests.get(volume_link)\n",
    "    scoop=BeautifulSoup(r.text, 'lxml')\n",
    "    raw_div=scoop.find_all('div', class_='l1')\n",
    "    raw_sips=[x.find('a') for x in raw_div]\n",
    "    sips_links=[url_base+raw_sips[i]['href'] for i in range(len(raw_sips))]\n",
    "    sips_names=[raw_sips[i].get_text() for i in range(len(raw_sips))]\n",
    "    sips=list(zip(sips_names,sips_links))\n",
    "    for sip_name,sip_link in sips:\n",
    "        r=requests.get(sip_link)\n",
    "        sip=BeautifulSoup(r.text,'lxml')\n",
    "        taste=sip.find('div', class_='content')\n",
    "        corpus.append((volume_name+' '+sip_name.upper(),taste.text))\n",
    "corpus"
   ]
  },
  {
   "cell_type": "code",
   "execution_count": null,
   "id": "77164640",
   "metadata": {},
   "outputs": [],
   "source": [
    "len(corpus)"
   ]
  },
  {
   "cell_type": "code",
   "execution_count": null,
   "id": "6b72c773",
   "metadata": {},
   "outputs": [],
   "source": [
    "clean_corpus=[(x,y) for x,y in corpus if not('FRONTMATTER' in x) and not('ENDMATTER' in x)]"
   ]
  },
  {
   "cell_type": "code",
   "execution_count": null,
   "id": "4c0d539c",
   "metadata": {},
   "outputs": [],
   "source": [
    "len(clean_corpus)"
   ]
  },
  {
   "cell_type": "code",
   "execution_count": null,
   "id": "301b8369",
   "metadata": {},
   "outputs": [],
   "source": [
    "clean_corpus[0]"
   ]
  },
  {
   "cell_type": "markdown",
   "id": "5ad06b21",
   "metadata": {},
   "source": [
    "## SAVING MISTER CORPUS"
   ]
  },
  {
   "cell_type": "code",
   "execution_count": null,
   "id": "ae988c50",
   "metadata": {},
   "outputs": [],
   "source": [
    "import pickle"
   ]
  },
  {
   "cell_type": "code",
   "execution_count": null,
   "id": "e60a44b0",
   "metadata": {},
   "outputs": [],
   "source": [
    "pickle.dump( clean_corpus, open( \"corpus.pickle\", \"wb\" ) )"
   ]
  },
  {
   "cell_type": "code",
   "execution_count": null,
   "id": "3ac72224",
   "metadata": {},
   "outputs": [],
   "source": [
    "corpus= pickle.load( open( \"corpus.pickle\", \"rb\" ) )"
   ]
  },
  {
   "cell_type": "code",
   "execution_count": null,
   "id": "196cc60f",
   "metadata": {},
   "outputs": [],
   "source": [
    "corpus[0]"
   ]
  },
  {
   "cell_type": "code",
   "execution_count": null,
   "id": "3ce3d99e",
   "metadata": {},
   "outputs": [],
   "source": [
    "len(corpus)"
   ]
  },
  {
   "cell_type": "markdown",
   "id": "1ad3ad4a",
   "metadata": {},
   "source": [
    "## EXPLORE THE CORPUS"
   ]
  },
  {
   "cell_type": "code",
   "execution_count": null,
   "id": "ebd5468d",
   "metadata": {},
   "outputs": [],
   "source": [
    "titles_indexed=[(x,corpus.index((x,y))) for x,y in corpus]"
   ]
  },
  {
   "cell_type": "code",
   "execution_count": null,
   "id": "fceadf41",
   "metadata": {},
   "outputs": [],
   "source": [
    "titles_indexed"
   ]
  },
  {
   "cell_type": "code",
   "execution_count": null,
   "id": "ce579264",
   "metadata": {},
   "outputs": [],
   "source": [
    "title=\"Leibniz\"\n",
    "indexes=[corpus.index((x,y)) for x,y in corpus if title in x]\n",
    "indexes"
   ]
  },
  {
   "cell_type": "code",
   "execution_count": null,
   "id": "bab84fcc",
   "metadata": {},
   "outputs": [],
   "source": [
    "print(corpus[1][1])"
   ]
  },
  {
   "cell_type": "code",
   "execution_count": null,
   "id": "5eaf488d",
   "metadata": {},
   "outputs": [],
   "source": []
  }
 ],
 "metadata": {
  "kernelspec": {
   "display_name": "Python 3",
   "language": "python",
   "name": "python3"
  },
  "language_info": {
   "codemirror_mode": {
    "name": "ipython",
    "version": 3
   },
   "file_extension": ".py",
   "mimetype": "text/x-python",
   "name": "python",
   "nbconvert_exporter": "python",
   "pygments_lexer": "ipython3",
   "version": "3.8.8"
  }
 },
 "nbformat": 4,
 "nbformat_minor": 5
}

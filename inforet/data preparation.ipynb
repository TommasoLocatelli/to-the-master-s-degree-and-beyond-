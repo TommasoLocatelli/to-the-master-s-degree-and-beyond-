{
 "cells": [
  {
   "cell_type": "markdown",
   "id": "5c988dfe",
   "metadata": {},
   "source": [
    "# Goal: \n",
    "To obtain a txt file for each work with metadata as: title and year of publication."
   ]
  },
  {
   "cell_type": "markdown",
   "id": "f0053f8b",
   "metadata": {},
   "source": [
    "## Download the pickel pre-corpus"
   ]
  },
  {
   "cell_type": "code",
   "execution_count": null,
   "id": "62a1fd08",
   "metadata": {},
   "outputs": [],
   "source": [
    "import pickle\n",
    "import re"
   ]
  },
  {
   "cell_type": "code",
   "execution_count": null,
   "id": "73488075",
   "metadata": {},
   "outputs": [],
   "source": [
    "corpus= pickle.load( open( \"corpus.pickle\", \"rb\" ) )"
   ]
  },
  {
   "cell_type": "markdown",
   "id": "14d820bc",
   "metadata": {},
   "source": [
    "## Remove unwanted characters\n",
    "\n",
    "* °syl-lables\n",
    "* ae\n",
    "* pages"
   ]
  },
  {
   "cell_type": "code",
   "execution_count": null,
   "id": "8ef2ab44",
   "metadata": {},
   "outputs": [],
   "source": [
    "patterns=[(\"°(.*)\\n\",'\\n'),(\"æ\",'ae'),(\"Æ\",'Ae'),(\"―(\\s[0-9]+\\s)―\",\" \")]\n",
    "clean_corpus=[]\n",
    "\n",
    "for title,text in corpus:\n",
    "    for old,new in patterns:\n",
    "        text=re.sub(old,new,text)\n",
    "    clean_corpus.append([title,text])"
   ]
  },
  {
   "cell_type": "code",
   "execution_count": null,
   "id": "d806ff66",
   "metadata": {},
   "outputs": [],
   "source": [
    "import pickle\n",
    "pickle.dump( clean_corpus, open( \"clean_corpus.pickle\", \"wb\" ) )"
   ]
  },
  {
   "cell_type": "markdown",
   "id": "bf585edc",
   "metadata": {},
   "source": [
    "# Split and assign dates\n",
    "\n",
    "The goal is to assign to each work the year of pubblication.\n",
    "\n",
    "final_corpus =\\[ {\"title\": title, \"year\", year_of_pubblication, \"content\": text} , ... \\]\n",
    "\n",
    "Some works are already isolated, other are not.\n",
    "\n",
    "* understand which works are isolated and which are not\n",
    "* understand how to split the ones with more works inside\n",
    "\n",
    "#### Considerations: \n",
    "it doesn't matter for the aim of this project to really have a precise split for each work, what really matter is to have the correct assignment between text and year. Especially considering that only secondary works are not already splitted. More than that, it is worth noting that the year of pubblicashion is just a proxy of the period in which a work was written; perhaps earlier works were published later due to pubblicashion issues, but for a such large corpus this should not be a problem. Later on may be interesting to ask to some expertise if some work have a longer period of writting with respect to others and see if it have some impact or can be detected by the analysis."
   ]
  },
  {
   "cell_type": "code",
   "execution_count": null,
   "id": "4ebb27b3",
   "metadata": {},
   "outputs": [],
   "source": [
    "corpus= pickle.load( open( \"clean_corpus.pickle\", \"rb\" ) )"
   ]
  },
  {
   "cell_type": "code",
   "execution_count": null,
   "id": "3c57226e",
   "metadata": {},
   "outputs": [],
   "source": [
    "titles=[x for x,y in corpus]"
   ]
  },
  {
   "cell_type": "code",
   "execution_count": null,
   "id": "0a8103f8",
   "metadata": {},
   "outputs": [],
   "source": [
    "len(titles)"
   ]
  },
  {
   "cell_type": "code",
   "execution_count": null,
   "id": "4c0bf48b",
   "metadata": {},
   "outputs": [],
   "source": [
    "titles[10]"
   ]
  },
  {
   "cell_type": "code",
   "execution_count": null,
   "id": "c2920022",
   "metadata": {},
   "outputs": [],
   "source": [
    "titles_indexed=[(x,corpus.index([x,y])) for x,y in corpus]\n",
    "titles_indexed[:5]"
   ]
  },
  {
   "cell_type": "code",
   "execution_count": null,
   "id": "90abbe1e",
   "metadata": {},
   "outputs": [],
   "source": [
    "#Trivial information retrieval system, search works per words present in the title\n",
    "title=\"STUDIES IN LOGICAL THEORY\"\n",
    "indexes=[corpus.index([x,y]) for x,y in corpus if title in x]\n",
    "indexes"
   ]
  },
  {
   "cell_type": "code",
   "execution_count": null,
   "id": "1bd9599b",
   "metadata": {},
   "outputs": [],
   "source": [
    "#given the index take the info\n",
    "def info(i):\n",
    "    volume=titles_indexed[i][0].split(':')[0].strip()\n",
    "    work=titles_indexed[i][0].split(':')[2].strip().capitalize()\n",
    "    date=titles_indexed[i][0].split(':')[1].split(',',1)[0].strip()\n",
    "    information={'Volume: ':volume,\"Title: \":work,'Date: ':date, 'Index':i}\n",
    "    return information"
   ]
  },
  {
   "cell_type": "code",
   "execution_count": null,
   "id": "a13d06da",
   "metadata": {},
   "outputs": [],
   "source": [
    "info(1)"
   ]
  },
  {
   "cell_type": "code",
   "execution_count": null,
   "id": "b9b75dd8",
   "metadata": {},
   "outputs": [],
   "source": [
    "infos=[info(i) for i in range(len(corpus))]"
   ]
  },
  {
   "cell_type": "code",
   "execution_count": null,
   "id": "e71690d4",
   "metadata": {},
   "outputs": [],
   "source": [
    "infos[:3]"
   ]
  },
  {
   "cell_type": "markdown",
   "id": "026f213b",
   "metadata": {},
   "source": [
    "### Testing the regex pattern matching and splitting\n",
    "\n",
    "Not many works have unique year, but what if I cannot trust the date indicated by titles\n",
    "Should I really check any text?\n",
    "\n",
    "Please note the use of \\[ as a essay delimiter, but not only\n",
    "\n",
    "Or maybe better, [First pubblished ... ]\n",
    "\n",
    "\\[First published(.|\\n[^»*])*"
   ]
  },
  {
   "cell_type": "markdown",
   "id": "309c1adc",
   "metadata": {},
   "source": [
    "### Splitting function and testing its behaviuor\n",
    "\n",
    "Need a function that just take a text and split in sublist of (title, info of first pubblication, text)"
   ]
  },
  {
   "cell_type": "code",
   "execution_count": null,
   "id": "b543924a",
   "metadata": {},
   "outputs": [],
   "source": [
    "def needed_split(text):\n",
    "    x=re.split(\"(\\[(.[^»*])*First published(.|\\n[^»*])*)\",text, maxsplit=10000000) #split the recurrent pattern of infos\n",
    "    x=[X for X in x if X!=']'and X!='. 'and X!=None] #get rid of useless elements\n",
    "    y=list()\n",
    "    if len(x)>1: #at least one occurence of the pattern\n",
    "        for i in range(len(x)):\n",
    "            if i%2==0and i>1: #if it is a text + title\n",
    "                z=re.split(\"((.+)$)\",x[i])\n",
    "                y.append(z[0])\n",
    "                y.append(z[1].strip())\n",
    "            else: #otherwise is already isolated\n",
    "                y.append(x[i])\n",
    "        return y[:-1] #get rid of the last useless element\n",
    "    else: #zero occurence of the pattern\n",
    "        y=x\n",
    "        return y"
   ]
  },
  {
   "cell_type": "code",
   "execution_count": null,
   "id": "24fb057a",
   "metadata": {},
   "outputs": [],
   "source": [
    "splitted=needed_split(corpus[11][1]) #1, 6, 7, 10"
   ]
  },
  {
   "cell_type": "code",
   "execution_count": null,
   "id": "e287264d",
   "metadata": {},
   "outputs": [],
   "source": [
    "len(splitted)"
   ]
  },
  {
   "cell_type": "code",
   "execution_count": null,
   "id": "29fe3f3b",
   "metadata": {
    "scrolled": true
   },
   "outputs": [],
   "source": [
    "print(splitted[0])"
   ]
  },
  {
   "cell_type": "code",
   "execution_count": null,
   "id": "3929f2f9",
   "metadata": {},
   "outputs": [],
   "source": [
    "print(splitted[1])"
   ]
  },
  {
   "cell_type": "code",
   "execution_count": null,
   "id": "d0cc9e3c",
   "metadata": {},
   "outputs": [],
   "source": [
    "print(splitted[2][:500])"
   ]
  },
  {
   "cell_type": "code",
   "execution_count": null,
   "id": "de9581a6",
   "metadata": {},
   "outputs": [],
   "source": [
    "print(splitted[3])"
   ]
  },
  {
   "cell_type": "code",
   "execution_count": null,
   "id": "9c5252aa",
   "metadata": {},
   "outputs": [],
   "source": [
    "print(splitted[4])"
   ]
  },
  {
   "cell_type": "code",
   "execution_count": null,
   "id": "8bf4db49",
   "metadata": {
    "scrolled": true
   },
   "outputs": [],
   "source": [
    "print(splitted[5])"
   ]
  },
  {
   "cell_type": "code",
   "execution_count": null,
   "id": "769a0f7d",
   "metadata": {
    "scrolled": true
   },
   "outputs": [],
   "source": [
    "print(splitted[-1])"
   ]
  },
  {
   "cell_type": "code",
   "execution_count": null,
   "id": "f761cefa",
   "metadata": {},
   "outputs": [],
   "source": [
    "print(splitted[-2])"
   ]
  },
  {
   "cell_type": "code",
   "execution_count": null,
   "id": "1655b67b",
   "metadata": {},
   "outputs": [],
   "source": [
    "print(splitted[-3])"
   ]
  },
  {
   "cell_type": "code",
   "execution_count": null,
   "id": "1e36a968",
   "metadata": {},
   "outputs": [],
   "source": [
    "print(splitted[-4])"
   ]
  },
  {
   "cell_type": "markdown",
   "id": "1f86be90",
   "metadata": {},
   "source": [
    "### One possible solution\n",
    "\n",
    "#### Define a function that use the needed_split() to obtain a raw final corpus\n",
    "\n",
    "[volume title: ... , title: ... , pubblication infos: ... , text: ,,, ]\n",
    "\n",
    "#### Problem:\n",
    "\n",
    "single text have a different format\n",
    "\n",
    "#### Solution:\n",
    "\n",
    "add a new level..\n",
    "\n",
    "[{'volume title': ... , content: [text]} , {'volume title': ... , content: [(title, info, text), ... ]}]\n",
    "\n",
    "#### Obs:\n",
    "\n",
    "This structure is information keeper but over articolated"
   ]
  },
  {
   "cell_type": "markdown",
   "id": "d17f0dff",
   "metadata": {},
   "source": [
    "### KISS SOLUTION\n",
    "\n",
    "#### Just obtain the corpus that I need\n",
    "\n",
    "* extract the year\n",
    "* stay faithful to: final_corpus =\\[ {\"title\": title, \"year\", year_of_pubblication, \"content\": text} , ... \\]\n",
    "* title may be a concatenation of volume and real title"
   ]
  },
  {
   "cell_type": "markdown",
   "id": "125635da",
   "metadata": {},
   "source": [
    "#### extracting the year experiment\n",
    "\n",
    "* first case: a unique text\n",
    "* second case: set of essays"
   ]
  },
  {
   "cell_type": "code",
   "execution_count": null,
   "id": "a2ca5e6a",
   "metadata": {},
   "outputs": [],
   "source": [
    "#first case\n",
    "splitted=needed_split(corpus[10][1])\n",
    "len(splitted)"
   ]
  },
  {
   "cell_type": "code",
   "execution_count": null,
   "id": "284f735e",
   "metadata": {},
   "outputs": [],
   "source": [
    "print(splitted[0][:500])"
   ]
  },
  {
   "cell_type": "code",
   "execution_count": null,
   "id": "c3d24b63",
   "metadata": {},
   "outputs": [],
   "source": [
    "date=re.findall('(\\d{4})', splitted[0])\n",
    "print(date)\n",
    "#take the first date"
   ]
  },
  {
   "cell_type": "code",
   "execution_count": null,
   "id": "41f2c2db",
   "metadata": {},
   "outputs": [],
   "source": [
    "#second case\n",
    "splitted=needed_split(corpus[2][1])\n",
    "len(splitted)"
   ]
  },
  {
   "cell_type": "code",
   "execution_count": null,
   "id": "51c986b3",
   "metadata": {},
   "outputs": [],
   "source": [
    "date=re.findall('(\\d{4})', splitted[1])\n",
    "print(date)\n",
    "#take the last date, does exists other strange cases other than the first essays of the eighth work?"
   ]
  },
  {
   "cell_type": "markdown",
   "id": "0d5e1228",
   "metadata": {},
   "source": [
    "## Finally"
   ]
  },
  {
   "cell_type": "code",
   "execution_count": null,
   "id": "1b751d44",
   "metadata": {},
   "outputs": [],
   "source": [
    "final_corpus=list()\n",
    "for j in range(len(corpus)):\n",
    "    general_title=corpus[j][0]\n",
    "    content=corpus[j][1]\n",
    "    list_of_works=needed_split(content)\n",
    "    if len(list_of_works)==1:\n",
    "        title=infos[j]['Volume: ']+' / '+infos[j]['Title: ']\n",
    "        dates=re.findall('(\\d{4})', list_of_works[0])\n",
    "        for ye in dates:\n",
    "            d=int(ye)\n",
    "            if d>=1870 and d<=1952:\n",
    "                date=d\n",
    "                break\n",
    "        text=content\n",
    "        final_corpus.append({'title: ': title, 'year: ': date, 'text: ': text})\n",
    "    elif len(list_of_works)>1:\n",
    "        for i in range(0,len(list_of_works)-1,3): # i is the index of the title\n",
    "            title=infos[j]['Volume: ']+' / '+infos[j]['Title: ']+' / '+list_of_works[i]\n",
    "            dates=re.findall('(\\d{4})', list_of_works[i+1])\n",
    "            if len(dates)>0:\n",
    "                for ye in dates:\n",
    "                    d=int(ye)\n",
    "                    if d>=1870 and d<=1952:\n",
    "                        date=d\n",
    "                        break\n",
    "            else: #if no year is clearly indicated then take the year from the general title as a proxy, STUDIES IN LOGICAL THEORY  3,6,9 \n",
    "                date=infos[j]['Date: ']\n",
    "            text=list_of_works[i+2]\n",
    "            final_corpus.append({'title: ': title, 'year: ': date, 'text: ': text})"
   ]
  },
  {
   "cell_type": "code",
   "execution_count": null,
   "id": "cde8f423",
   "metadata": {},
   "outputs": [],
   "source": [
    "len(final_corpus)"
   ]
  },
  {
   "cell_type": "code",
   "execution_count": null,
   "id": "075c22ec",
   "metadata": {
    "scrolled": true
   },
   "outputs": [],
   "source": [
    "final_corpus[144]"
   ]
  },
  {
   "cell_type": "code",
   "execution_count": null,
   "id": "61e192e7",
   "metadata": {
    "scrolled": true
   },
   "outputs": [],
   "source": [
    "print(final_corpus[144]['text: '][:400])"
   ]
  },
  {
   "cell_type": "code",
   "execution_count": null,
   "id": "bc014e85",
   "metadata": {},
   "outputs": [],
   "source": [
    "#clean from »*\n",
    "patterns=[(\"[»*]\",'')]\n",
    "for work in final_corpus:\n",
    "    for old,new in patterns:\n",
    "        work['text: ']=re.sub(old,new,work['text: '])"
   ]
  },
  {
   "cell_type": "code",
   "execution_count": null,
   "id": "3227bc4d",
   "metadata": {},
   "outputs": [],
   "source": [
    "pickle.dump( final_corpus, open( \"splitted_corpus.pickle\", \"wb\" ) )"
   ]
  },
  {
   "cell_type": "markdown",
   "id": "f3979d47",
   "metadata": {},
   "source": [
    "### Problems:\n",
    "\n",
    "* use of a not completely safe heuristics\n",
    "* how to solve the range of years problem?"
   ]
  },
  {
   "cell_type": "code",
   "execution_count": null,
   "id": "f42fbd48",
   "metadata": {},
   "outputs": [],
   "source": [
    "final_corpus= pickle.load( open( \"splitted_corpus.pickle\", \"rb\" ) )"
   ]
  },
  {
   "cell_type": "code",
   "execution_count": null,
   "id": "0330ab54",
   "metadata": {},
   "outputs": [],
   "source": [
    "final_corpus[1035]"
   ]
  },
  {
   "cell_type": "code",
   "execution_count": null,
   "id": "37da2a10",
   "metadata": {},
   "outputs": [],
   "source": [
    "final_corpus[173]"
   ]
  },
  {
   "cell_type": "code",
   "execution_count": null,
   "id": "2a9528fb",
   "metadata": {},
   "outputs": [],
   "source": [
    "# ad hoc solution\n",
    "for i in range(141,145):\n",
    "    final_corpus[i]['year: ']='1903'"
   ]
  },
  {
   "cell_type": "code",
   "execution_count": null,
   "id": "dc6c4f37",
   "metadata": {},
   "outputs": [],
   "source": [
    "final_corpus.pop(171)"
   ]
  },
  {
   "cell_type": "code",
   "execution_count": null,
   "id": "24a1feda",
   "metadata": {},
   "outputs": [],
   "source": [
    "# ad hoc solution\n",
    "for i in range(1035,1039):\n",
    "    final_corpus[i]['year: ']='1918'"
   ]
  },
  {
   "cell_type": "code",
   "execution_count": null,
   "id": "9b292793",
   "metadata": {},
   "outputs": [],
   "source": [
    "#problem solved\n",
    "[(final_corpus.index(x),x['year: ']) for x in final_corpus if len(str(x['year: ']))!=4]"
   ]
  },
  {
   "cell_type": "markdown",
   "id": "659f5059",
   "metadata": {},
   "source": [
    "# PROBLEMS 2.0"
   ]
  },
  {
   "cell_type": "markdown",
   "id": "eb577b99",
   "metadata": {},
   "source": [
    "### YEARS DISTRIBUTION"
   ]
  },
  {
   "cell_type": "code",
   "execution_count": null,
   "id": "537b6dbe",
   "metadata": {},
   "outputs": [],
   "source": [
    "years=[]\n",
    "count=[]\n",
    "for work in final_corpus:\n",
    "    y=int(work['year: '])\n",
    "    if y in years:\n",
    "        count[years.index(y)]+=1\n",
    "    else:\n",
    "        years.append(y)\n",
    "        count.append(1)\n",
    "        \n",
    "years_count=dict(zip(years,count))"
   ]
  },
  {
   "cell_type": "code",
   "execution_count": null,
   "id": "f57a0bcb",
   "metadata": {},
   "outputs": [],
   "source": [
    "years_count"
   ]
  },
  {
   "cell_type": "markdown",
   "id": "07e5084a",
   "metadata": {},
   "source": [
    "## MISSED SPLIT"
   ]
  },
  {
   "cell_type": "code",
   "execution_count": null,
   "id": "60bc9872",
   "metadata": {},
   "outputs": [],
   "source": [
    "problems=[x['title: '] for x in final_corpus if len(x['title: '])>500]"
   ]
  },
  {
   "cell_type": "code",
   "execution_count": null,
   "id": "b5be2699",
   "metadata": {},
   "outputs": [],
   "source": [
    "len(problems)"
   ]
  },
  {
   "cell_type": "code",
   "execution_count": null,
   "id": "95d7e9d0",
   "metadata": {},
   "outputs": [],
   "source": [
    "problems[12]"
   ]
  },
  {
   "cell_type": "code",
   "execution_count": null,
   "id": "0e2207dd",
   "metadata": {},
   "outputs": [],
   "source": [
    "problems[2]"
   ]
  },
  {
   "cell_type": "markdown",
   "id": "7edb87a5",
   "metadata": {},
   "source": [
    "#### Some titles had ingested text due to pattern missing, as they seems to be an irrelevant part of the whole corpus, I just get rid of them"
   ]
  },
  {
   "cell_type": "code",
   "execution_count": null,
   "id": "bf12e17e",
   "metadata": {},
   "outputs": [],
   "source": [
    "final_corpus=[x for x in final_corpus if len(x['title: '])<500]"
   ]
  },
  {
   "cell_type": "code",
   "execution_count": null,
   "id": "d6536eed",
   "metadata": {},
   "outputs": [],
   "source": [
    "pickle.dump( final_corpus, open( \"splitted_corpus.pickle\", \"wb\" ) )"
   ]
  },
  {
   "cell_type": "code",
   "execution_count": null,
   "id": "0cfdeff3",
   "metadata": {},
   "outputs": [],
   "source": []
  }
 ],
 "metadata": {
  "kernelspec": {
   "display_name": "Python 3",
   "language": "python",
   "name": "python3"
  },
  "language_info": {
   "codemirror_mode": {
    "name": "ipython",
    "version": 3
   },
   "file_extension": ".py",
   "mimetype": "text/x-python",
   "name": "python",
   "nbconvert_exporter": "python",
   "pygments_lexer": "ipython3",
   "version": "3.8.8"
  }
 },
 "nbformat": 4,
 "nbformat_minor": 5
}

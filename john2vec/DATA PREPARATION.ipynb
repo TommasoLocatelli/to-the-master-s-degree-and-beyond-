{
 "cells": [
  {
   "cell_type": "markdown",
   "id": "5c988dfe",
   "metadata": {},
   "source": [
    "# Goal: \n",
    "To obtain a txt file for each work with metadata as: title and year of pubblicathion"
   ]
  },
  {
   "cell_type": "markdown",
   "id": "f0053f8b",
   "metadata": {},
   "source": [
    "## Download the pickel pre-corpus"
   ]
  },
  {
   "cell_type": "code",
   "execution_count": 2,
   "id": "62a1fd08",
   "metadata": {},
   "outputs": [],
   "source": [
    "import pickle\n",
    "import re"
   ]
  },
  {
   "cell_type": "code",
   "execution_count": null,
   "id": "73488075",
   "metadata": {},
   "outputs": [],
   "source": [
    "corpus= pickle.load( open( \"corpus.pickle\", \"rb\" ) )"
   ]
  },
  {
   "cell_type": "markdown",
   "id": "14d820bc",
   "metadata": {},
   "source": [
    "## Remove unwanted characters\n",
    "\n",
    "* °syl-lables\n",
    "* ae\n",
    "* pages"
   ]
  },
  {
   "cell_type": "code",
   "execution_count": null,
   "id": "8ef2ab44",
   "metadata": {},
   "outputs": [],
   "source": [
    "patterns=[(\"°(.*)\\n\",'\\n'),(\"æ\",'ae'),(\"Æ\",'Ae'),(\"―(\\s[0-9]+\\s)―\",\" \")]\n",
    "clean_corpus=[]\n",
    "\n",
    "for title,text in corpus:\n",
    "    for old,new in patterns:\n",
    "        text=re.sub(old,new,text)\n",
    "    clean_corpus.append([title,text])"
   ]
  },
  {
   "cell_type": "code",
   "execution_count": null,
   "id": "298d4243",
   "metadata": {},
   "outputs": [],
   "source": [
    "print(corpus[1][1])"
   ]
  },
  {
   "cell_type": "code",
   "execution_count": null,
   "id": "7c9887ec",
   "metadata": {},
   "outputs": [],
   "source": [
    "print(clean_corpus[1][1])"
   ]
  },
  {
   "cell_type": "code",
   "execution_count": null,
   "id": "d806ff66",
   "metadata": {},
   "outputs": [],
   "source": [
    "import pickle\n",
    "pickle.dump( clean_corpus, open( \"clean_corpus.pickle\", \"wb\" ) )"
   ]
  },
  {
   "cell_type": "markdown",
   "id": "bf585edc",
   "metadata": {},
   "source": [
    "# Split and assign dates\n",
    "\n",
    "The goal is to assign to each work the year of pubblication.\n",
    "\n",
    "final_corpus =\\[ {\"title\": title, \"year\", year_of_pubblication, \"content\": text} , ... \\]\n",
    "\n",
    "Some works are already isolated, other are not.\n",
    "\n",
    "* understand which works are isolated and which are not\n",
    "* understand how to split the ones with more works inside\n",
    "\n",
    "#### Considerations: \n",
    "it doesn't matter for the aim of this project to really have a precise split for each work, what really matter is to have the correct assignment between text and year. Especially considering that only secondary works are not already splitted. More than that, it is worth noting that the year of pubblicashion is just a proxy of the period in which a work was written; perhaps earlier works were published later due to pubblicashion issues, but for a such large corpus this should not be a problem. Later on may be interesting to ask to some expertise if some work have a longer period of writting with respect to others and see if it have some impact or can be detected by the analysis."
   ]
  },
  {
   "cell_type": "code",
   "execution_count": null,
   "id": "4ebb27b3",
   "metadata": {},
   "outputs": [],
   "source": [
    "corpus= pickle.load( open( \"clean_corpus.pickle\", \"rb\" ) )"
   ]
  },
  {
   "cell_type": "code",
   "execution_count": null,
   "id": "3c57226e",
   "metadata": {},
   "outputs": [],
   "source": [
    "titles=[x for x,y in corpus]"
   ]
  },
  {
   "cell_type": "code",
   "execution_count": null,
   "id": "0a8103f8",
   "metadata": {},
   "outputs": [],
   "source": [
    "len(titles)"
   ]
  },
  {
   "cell_type": "code",
   "execution_count": null,
   "id": "4c0bf48b",
   "metadata": {},
   "outputs": [],
   "source": [
    "titles[10]"
   ]
  },
  {
   "cell_type": "code",
   "execution_count": null,
   "id": "c2920022",
   "metadata": {},
   "outputs": [],
   "source": [
    "titles_indexed=[(x,corpus.index([x,y])) for x,y in corpus]\n",
    "titles_indexed[:5]"
   ]
  },
  {
   "cell_type": "code",
   "execution_count": null,
   "id": "90abbe1e",
   "metadata": {},
   "outputs": [],
   "source": [
    "#Trivial information retrieval system, search works per words present in the title\n",
    "title=\"STUDIES IN LOGICAL THEORY\"\n",
    "indexes=[corpus.index([x,y]) for x,y in corpus if title in x]\n",
    "indexes"
   ]
  },
  {
   "cell_type": "code",
   "execution_count": null,
   "id": "1bd9599b",
   "metadata": {},
   "outputs": [],
   "source": [
    "#given the index take the info\n",
    "def info(i):\n",
    "    volume=titles_indexed[i][0].split(':')[0].strip()\n",
    "    work=titles_indexed[i][0].split(':')[2].strip().capitalize()\n",
    "    date=titles_indexed[i][0].split(':')[1].split(',',1)[0].strip()\n",
    "    information={'Volume: ':volume,\"Title: \":work,'Date: ':date, 'Index':i}\n",
    "    return information"
   ]
  },
  {
   "cell_type": "code",
   "execution_count": null,
   "id": "a13d06da",
   "metadata": {},
   "outputs": [],
   "source": [
    "info(1)"
   ]
  },
  {
   "cell_type": "code",
   "execution_count": null,
   "id": "b9b75dd8",
   "metadata": {},
   "outputs": [],
   "source": [
    "infos=[info(i) for i in range(len(corpus))]"
   ]
  },
  {
   "cell_type": "code",
   "execution_count": null,
   "id": "e71690d4",
   "metadata": {},
   "outputs": [],
   "source": [
    "infos"
   ]
  },
  {
   "cell_type": "markdown",
   "id": "026f213b",
   "metadata": {},
   "source": [
    "### Testing the regex pattern matching and splitting\n",
    "\n",
    "Not many works have unique year, but what if I cannot trust the date indicated by titles\n",
    "Should I really check any text?\n",
    "\n",
    "Please note the use of \\[ as a essay delimiter, but not only\n",
    "\n",
    "Or maybe better, [First pubblished ... ]\n",
    "\n",
    "\\[First published(.|\\n[^»*])*"
   ]
  },
  {
   "cell_type": "code",
   "execution_count": null,
   "id": "7a11fc3b",
   "metadata": {},
   "outputs": [],
   "source": [
    "print(corpus[3][1])"
   ]
  },
  {
   "cell_type": "code",
   "execution_count": null,
   "id": "dba3ff77",
   "metadata": {},
   "outputs": [],
   "source": [
    "x=re.split(\"(\\[(.[^»*])*First published(.|\\n[^»*])*)\",corpus[8][1], maxsplit=10000000)\n",
    "x=[X for X in x if X!=']']"
   ]
  },
  {
   "cell_type": "code",
   "execution_count": null,
   "id": "55c483a6",
   "metadata": {},
   "outputs": [],
   "source": [
    "len(x)"
   ]
  },
  {
   "cell_type": "code",
   "execution_count": null,
   "id": "0da2e436",
   "metadata": {},
   "outputs": [],
   "source": [
    "x"
   ]
  },
  {
   "cell_type": "code",
   "execution_count": null,
   "id": "8906388c",
   "metadata": {},
   "outputs": [],
   "source": [
    "x[0]"
   ]
  },
  {
   "cell_type": "code",
   "execution_count": null,
   "id": "76a171fc",
   "metadata": {},
   "outputs": [],
   "source": [
    "x[1]"
   ]
  },
  {
   "cell_type": "code",
   "execution_count": null,
   "id": "a33de966",
   "metadata": {},
   "outputs": [],
   "source": [
    "x[2]"
   ]
  },
  {
   "cell_type": "code",
   "execution_count": null,
   "id": "e04b7b20",
   "metadata": {},
   "outputs": [],
   "source": [
    "x[3]"
   ]
  },
  {
   "cell_type": "code",
   "execution_count": null,
   "id": "e4f2f5c6",
   "metadata": {},
   "outputs": [],
   "source": [
    "x[4]"
   ]
  },
  {
   "cell_type": "code",
   "execution_count": null,
   "id": "1aa97692",
   "metadata": {},
   "outputs": [],
   "source": [
    "x[5]"
   ]
  },
  {
   "cell_type": "code",
   "execution_count": null,
   "id": "2217de62",
   "metadata": {},
   "outputs": [],
   "source": [
    "x[6]"
   ]
  },
  {
   "cell_type": "code",
   "execution_count": null,
   "id": "4182efb3",
   "metadata": {},
   "outputs": [],
   "source": [
    "x[7]"
   ]
  },
  {
   "cell_type": "code",
   "execution_count": null,
   "id": "d6c23e5b",
   "metadata": {},
   "outputs": [],
   "source": [
    "x[8]"
   ]
  },
  {
   "cell_type": "code",
   "execution_count": null,
   "id": "bd3667e4",
   "metadata": {},
   "outputs": [],
   "source": [
    "x[9]"
   ]
  },
  {
   "cell_type": "code",
   "execution_count": null,
   "id": "4f7f51fa",
   "metadata": {},
   "outputs": [],
   "source": [
    "x[1::3]"
   ]
  },
  {
   "cell_type": "code",
   "execution_count": null,
   "id": "4c18ba13",
   "metadata": {
    "scrolled": true
   },
   "outputs": [],
   "source": [
    "x[2::3]"
   ]
  },
  {
   "cell_type": "code",
   "execution_count": null,
   "id": "aef38d64",
   "metadata": {},
   "outputs": [],
   "source": [
    "x[0::3]"
   ]
  },
  {
   "cell_type": "code",
   "execution_count": null,
   "id": "e3508189",
   "metadata": {},
   "outputs": [],
   "source": [
    "y=re.split(\"([\\w\\s']+$)\",x[3])"
   ]
  },
  {
   "cell_type": "code",
   "execution_count": null,
   "id": "030f1c54",
   "metadata": {},
   "outputs": [],
   "source": [
    "len(y)"
   ]
  },
  {
   "cell_type": "code",
   "execution_count": null,
   "id": "c36f088a",
   "metadata": {},
   "outputs": [],
   "source": [
    "y[0]"
   ]
  },
  {
   "cell_type": "code",
   "execution_count": null,
   "id": "45db0d22",
   "metadata": {},
   "outputs": [],
   "source": [
    "y[1].strip()"
   ]
  },
  {
   "cell_type": "code",
   "execution_count": null,
   "id": "a97ceabc",
   "metadata": {},
   "outputs": [],
   "source": [
    "y[2]"
   ]
  },
  {
   "cell_type": "markdown",
   "id": "309c1adc",
   "metadata": {},
   "source": [
    "### Splitting function and testing its behaviuor\n",
    "\n",
    "Need a function that just take a text and split in sublist of (title, info of first pubblication, text)"
   ]
  },
  {
   "cell_type": "code",
   "execution_count": null,
   "id": "b543924a",
   "metadata": {},
   "outputs": [],
   "source": [
    "def needed_split(text):\n",
    "    x=re.split(\"(\\[(.[^»*])*First published(.|\\n[^»*])*)\",text, maxsplit=10000000) #split the recurrent pattern of infos\n",
    "    x=[X for X in x if X!=']'and X!='. 'and X!=None] #get rid of useless elements\n",
    "    y=list()\n",
    "    if len(x)>1: #at least one occurence of the pattern\n",
    "        for i in range(len(x)):\n",
    "            if i%2==0and i>1: #if it is a text + title\n",
    "                z=re.split(\"((.+)$)\",x[i])\n",
    "                y.append(z[0])\n",
    "                y.append(z[1].strip())\n",
    "            else: #otherwise is already isolated\n",
    "                y.append(x[i])\n",
    "        return y[:-1] #get rid of the last useless element\n",
    "    else: #zero occurence of the pattern\n",
    "        y=x\n",
    "        return y"
   ]
  },
  {
   "cell_type": "code",
   "execution_count": null,
   "id": "24fb057a",
   "metadata": {},
   "outputs": [],
   "source": [
    "splitted=needed_split(corpus[11][1]) #1, 6, 7, 10"
   ]
  },
  {
   "cell_type": "code",
   "execution_count": null,
   "id": "e287264d",
   "metadata": {},
   "outputs": [],
   "source": [
    "len(splitted)"
   ]
  },
  {
   "cell_type": "code",
   "execution_count": null,
   "id": "29fe3f3b",
   "metadata": {
    "scrolled": true
   },
   "outputs": [],
   "source": [
    "print(splitted[0])"
   ]
  },
  {
   "cell_type": "code",
   "execution_count": null,
   "id": "3929f2f9",
   "metadata": {},
   "outputs": [],
   "source": [
    "print(splitted[1])"
   ]
  },
  {
   "cell_type": "code",
   "execution_count": null,
   "id": "d0cc9e3c",
   "metadata": {},
   "outputs": [],
   "source": [
    "print(splitted[2])"
   ]
  },
  {
   "cell_type": "code",
   "execution_count": null,
   "id": "de9581a6",
   "metadata": {},
   "outputs": [],
   "source": [
    "print(splitted[3])"
   ]
  },
  {
   "cell_type": "code",
   "execution_count": null,
   "id": "9c5252aa",
   "metadata": {},
   "outputs": [],
   "source": [
    "print(splitted[4])"
   ]
  },
  {
   "cell_type": "code",
   "execution_count": null,
   "id": "8bf4db49",
   "metadata": {
    "scrolled": true
   },
   "outputs": [],
   "source": [
    "print(splitted[5])"
   ]
  },
  {
   "cell_type": "code",
   "execution_count": null,
   "id": "769a0f7d",
   "metadata": {
    "scrolled": true
   },
   "outputs": [],
   "source": [
    "print(splitted[-1])"
   ]
  },
  {
   "cell_type": "code",
   "execution_count": null,
   "id": "f761cefa",
   "metadata": {},
   "outputs": [],
   "source": [
    "print(splitted[-2])"
   ]
  },
  {
   "cell_type": "code",
   "execution_count": null,
   "id": "1655b67b",
   "metadata": {},
   "outputs": [],
   "source": [
    "print(splitted[-3])"
   ]
  },
  {
   "cell_type": "code",
   "execution_count": null,
   "id": "1e36a968",
   "metadata": {},
   "outputs": [],
   "source": [
    "print(splitted[-4])"
   ]
  },
  {
   "cell_type": "markdown",
   "id": "1f86be90",
   "metadata": {},
   "source": [
    "### One possible solution\n",
    "\n",
    "#### Define a function that use the needed_split() to obtain a raw final corpus\n",
    "\n",
    "[volume title: ... , title: ... , pubblication infos: ... , text: ,,, ]\n",
    "\n",
    "#### Problem:\n",
    "\n",
    "single text have a different format\n",
    "\n",
    "#### Solution:\n",
    "\n",
    "add a new level..\n",
    "\n",
    "[{'volume title': ... , content: [text]} , {'volume title': ... , content: [(title, info, text), ... ]}]\n",
    "\n",
    "#### Obs:\n",
    "\n",
    "This structure is information keeper but over articolated"
   ]
  },
  {
   "cell_type": "markdown",
   "id": "d17f0dff",
   "metadata": {},
   "source": [
    "### KISS SOLUTION\n",
    "\n",
    "#### Just obtain the corpus that I need\n",
    "\n",
    "* extract the year\n",
    "* stay faithful to: final_corpus =\\[ {\"title\": title, \"year\", year_of_pubblication, \"content\": text} , ... \\]\n",
    "* title may be a concatenation of volume and real title"
   ]
  },
  {
   "cell_type": "markdown",
   "id": "125635da",
   "metadata": {},
   "source": [
    "#### extracting the year experiment\n",
    "\n",
    "* first case: a unique text\n",
    "* second case: set of essays"
   ]
  },
  {
   "cell_type": "code",
   "execution_count": null,
   "id": "a2ca5e6a",
   "metadata": {},
   "outputs": [],
   "source": [
    "#first case\n",
    "splitted=needed_split(corpus[10][1])\n",
    "len(splitted)"
   ]
  },
  {
   "cell_type": "code",
   "execution_count": null,
   "id": "284f735e",
   "metadata": {},
   "outputs": [],
   "source": [
    "print(splitted[0])"
   ]
  },
  {
   "cell_type": "code",
   "execution_count": null,
   "id": "c3d24b63",
   "metadata": {},
   "outputs": [],
   "source": [
    "date=re.findall('(\\d{4})', splitted[0])\n",
    "print(date)\n",
    "#take the first date"
   ]
  },
  {
   "cell_type": "code",
   "execution_count": null,
   "id": "41f2c2db",
   "metadata": {},
   "outputs": [],
   "source": [
    "#second case\n",
    "splitted=needed_split(corpus[2][1])\n",
    "len(splitted)"
   ]
  },
  {
   "cell_type": "code",
   "execution_count": null,
   "id": "51c986b3",
   "metadata": {},
   "outputs": [],
   "source": [
    "date=re.findall('(\\d{4})', splitted[1])\n",
    "print(date)\n",
    "#take the last date, does exists other strange cases other than the first essays of the eighth work?"
   ]
  },
  {
   "cell_type": "markdown",
   "id": "0d5e1228",
   "metadata": {},
   "source": [
    "## Finally"
   ]
  },
  {
   "cell_type": "code",
   "execution_count": null,
   "id": "1b751d44",
   "metadata": {},
   "outputs": [],
   "source": [
    "final_corpus=list()\n",
    "for j in range(len(corpus)):\n",
    "    general_title=corpus[j][0]\n",
    "    content=corpus[j][1]\n",
    "    list_of_works=needed_split(content)\n",
    "    if len(list_of_works)==1:\n",
    "        title=infos[j]['Volume: ']+' / '+infos[j]['Title: ']\n",
    "        dates=re.findall('(\\d{4})', list_of_works[0])\n",
    "        date=dates[0] #it is possible to check the consistency with the infos\n",
    "        text=content\n",
    "        final_corpus.append({'title: ': title, 'year: ': date, 'text: ': text})\n",
    "    elif len(list_of_works)>1:\n",
    "        for i in range(0,len(list_of_works)-1,3): # i is the index of the title\n",
    "            title=infos[j]['Volume: ']+' / '+infos[j]['Title: ']+' / '+list_of_works[i]\n",
    "            dates=re.findall('(\\d{4})', list_of_works[i+1])\n",
    "            if len(dates)>0:\n",
    "                date=dates[-1]\n",
    "            else: #if no year is clearly indicated then take the year from the general title as a proxy, STUDIES IN LOGICAL THEORY  3,6,9 \n",
    "                date=infos[j]['Date: ']\n",
    "            text=list_of_works[i+2]\n",
    "            final_corpus.append({'title: ': title, 'year: ': date, 'text: ': text})"
   ]
  },
  {
   "cell_type": "code",
   "execution_count": null,
   "id": "cde8f423",
   "metadata": {},
   "outputs": [],
   "source": [
    "len(final_corpus)"
   ]
  },
  {
   "cell_type": "code",
   "execution_count": null,
   "id": "075c22ec",
   "metadata": {
    "scrolled": true
   },
   "outputs": [],
   "source": [
    "final_corpus[144]"
   ]
  },
  {
   "cell_type": "code",
   "execution_count": null,
   "id": "61e192e7",
   "metadata": {
    "scrolled": true
   },
   "outputs": [],
   "source": [
    "print(final_corpus[144]['text: '])"
   ]
  },
  {
   "cell_type": "code",
   "execution_count": null,
   "id": "bc014e85",
   "metadata": {},
   "outputs": [],
   "source": [
    "#clean from »*\n",
    "patterns=[(\"[»*]\",'')]\n",
    "for work in final_corpus:\n",
    "    for old,new in patterns:\n",
    "        work['text: ']=re.sub(old,new,work['text: '])"
   ]
  },
  {
   "cell_type": "code",
   "execution_count": 29,
   "id": "3227bc4d",
   "metadata": {},
   "outputs": [],
   "source": [
    "pickle.dump( final_corpus, open( \"splitted_corpus.pickle\", \"wb\" ) )"
   ]
  },
  {
   "cell_type": "markdown",
   "id": "f3979d47",
   "metadata": {},
   "source": [
    "### Problems:\n",
    "\n",
    "* use of a not completely safe heuristics\n",
    "* how to solve the range of years problem?"
   ]
  },
  {
   "cell_type": "code",
   "execution_count": 3,
   "id": "f42fbd48",
   "metadata": {},
   "outputs": [],
   "source": [
    "final_corpus= pickle.load( open( \"splitted_corpus.pickle\", \"rb\" ) )"
   ]
  },
  {
   "cell_type": "code",
   "execution_count": 24,
   "id": "0330ab54",
   "metadata": {},
   "outputs": [
    {
     "data": {
      "text/plain": [
       "{'title: ': 'The Later Works of John Dewey, 1925-1953. Volume 17 / Statements / Statements\\n  \\n                            \\n  \\n                            \\n^Answer to \"Do We Want Rifle Practice in the Public Schools?\" ',\n",
       " 'year: ': '1885-1953',\n",
       " 'text: ': '\\n\\nIt would be a long step backward in the traditions of the\\nAmerican people and of American education to introduce rifle\\npractice into our public schools. Aside from the general\\nobjections from the standpoint of civilization, humanity and moral\\nprogress, which ought to be absolutely final, the objections from\\nthe standpoint of school administration and discipline are most\\nserious. It would introduce another distracting factor where high-\\nschool boys are already over-distracted and stimulated, and\\nwould increase the evil force of the exciting and distracting\\nconditions that already, especially in our cities, are more than\\npowerful enough. It is undemocratic, barbaric, and scholastically\\nwholly unwise.\\n  \\n                            \\n'}"
      ]
     },
     "execution_count": 24,
     "metadata": {},
     "output_type": "execute_result"
    }
   ],
   "source": [
    "final_corpus[1035]"
   ]
  },
  {
   "cell_type": "code",
   "execution_count": 17,
   "id": "37da2a10",
   "metadata": {},
   "outputs": [
    {
     "data": {
      "text/plain": [
       "{'title: ': 'The Middle Works of John Dewey, 1899-1924. Volume 3 / Reviews / World Views and Their Ethical Implications',\n",
       " 'year: ': '1904',\n",
       " 'text: ': '\\n: A Syllabus of Lectures in Advanced Ethics.\\n\\nBy W. R. Benedict, Professor of Philosophy in the University of Cincinnati.Cincinnati University Press, 1902.\\nI am glad to have an opportunity of calling attention to\\nthis little volume of a hundred pages, prepared as a syllabus\\naccompanying collegiate lectures. No one would doubt for a\\nmoment that all systems of philosophy, or World Views,\\ncarry with them implications of the utmost significance for\\nconduct; few would deny that one of the main motifs in the\\ngeneration of philosophic systems has been the consciousness\\nof certain ultimate issues as to morality, the possibility of\\nrationally valuing life as worthy or unworthy. Such being\\nthe case, it is a striking fact that there is almost a total lack\\nof literature upon the inherent bearings of philosophic \\nstandpoints and outlooks upon the moral problems of life. The\\ngreat writers, Plato, Spinoza, Kant, Hegel, turn up, of course,\\nboth in histories of metaphysics as such, and in histories of\\nethics as such; but rarely do we have a consideration of what\\nthe metaphysical view means, per se, when translated into\\nethical equivalents. Professor Benedict\\'s book is worthy of\\nrecognition as a sincere and rational attempt at just this\\ntranslation.\\nMoreover, the way the test is undertaken is worthy of\\nnote. Self-imposed limitations practically exclude periods \\nbefore Kant—an outcome specially to be deplored, I think, in\\nthe case of Spinoza, who is an unapproachable instance of\\nan organic union of a typical World View with a typical\\ntheory of life; one which, while analogous in some regards\\nto the Idealistic Monism, finally adopted and expounded by\\nProfessor Benedict, has its distinctive points. There is an\\naccount of the ethical implications of the systems of Kant,\\nFichte, Schelling, Hegel and Schopenhauer, occupying about\\nhalf the volume, while the remainder discusses the ethical\\nimplications of systems as such: Dualism, and, under \\nMonism, Materialism and Idealism. The historical account might\\n  \\n                            \\nperhaps be criticized on the ground that in the case of Fichte\\nthe treatment falls short of the ideal held in view in the\\nbook, and also of the possibilities of the case. It is brief and\\nthere is little rendering of Fichte\\'s theory of knowledge and\\nbeing into their ethical evaluations; Fichte\\'s system might\\nbe made very fruitful as a type-case of an effort to construe\\nthe whole universe in terms of the moral standpoint as such.\\nDualism is rejected on the ground that its ethical \\ncorrelates are an unsolvable antagonism of good and bad, \\nanimal and spiritual, principles in man\\'s life, whose logical\\noutcome is asceticism, and an assumption of an arbitrary\\nstruggle of external forces. Materialism is welcomed in so far\\nas it represents a movement toward unity; but is criticized on\\nthe ground that it attempts to define existence apart from\\nexistence-for-consciousness, which is impossible. Moreover, it\\nis contended that science itself in its apparently most \\nmaterialistic conquest, physiological psychology, really transcends\\nmaterialism. \"Matter has drawn very close to consciousness.\\nHere, in the consciousness which brain makes possible, is\\nthe explanation of matter, the reason for matter, and the\\nreason in matter\" (p. 72).\\nIt is impossible to summarize the idealistic Monism set\\nforth by Professor Benedict, because the account is itself but\\nthe summary appropriate to a syllabus. It is in line with\\ncertain recent renditions of Hegel, notably Bradley\\'s and\\nRoyce\\'s, but is truer to Hegel, in the reviewer\\'s mind, as well\\nas more satisfactory in itself, in laying greater stress upon\\nthe positive significance of conflict and the suffering that\\nattends it, in the constitution of an active and worthful \\nuniverse, instead of tending to give a negative interpretation of\\nconflict as due to the \"finite\" over against the complete, or\\nto \"appearance\" over against Reality. It is to be hoped that\\nProfessor Benedict will give in ample form what he has set\\nforth here in outline. Especially noteworthy is the temper in\\nwhich Professor Benedict holds to the irrationality of a\\ndemand for finality—for absolute explanation—upon one side,\\nwhile, upon the other, he insists upon the moral duty of\\nadopting as a hypothesis that world-view which, all things\\ntaken into account, seems to serve relatively best the \\npurpose of rationalizing existence and life.\\n  \\n                            \\n'}"
      ]
     },
     "execution_count": 17,
     "metadata": {},
     "output_type": "execute_result"
    }
   ],
   "source": [
    "final_corpus[173]"
   ]
  },
  {
   "cell_type": "code",
   "execution_count": 12,
   "id": "2a9528fb",
   "metadata": {},
   "outputs": [],
   "source": [
    "# ad hoc solution\n",
    "for i in range(141,145):\n",
    "    final_corpus[i]['year: ']='1903'"
   ]
  },
  {
   "cell_type": "code",
   "execution_count": 18,
   "id": "dc6c4f37",
   "metadata": {},
   "outputs": [
    {
     "data": {
      "text/plain": [
       "{'title: ': 'The Middle Works of John Dewey, 1899-1924. Volume 3 / Essays / [',\n",
       " 'year: ': '1903-1906',\n",
       " 'text: ': '[First published in The Psychology of Child Development by\\nIrving W. King (Chicago: University of Chicago Press, 1903),\\n'}"
      ]
     },
     "execution_count": 18,
     "metadata": {},
     "output_type": "execute_result"
    }
   ],
   "source": [
    "final_corpus.pop(171)"
   ]
  },
  {
   "cell_type": "code",
   "execution_count": 26,
   "id": "24a1feda",
   "metadata": {},
   "outputs": [],
   "source": [
    "# ad hoc solution\n",
    "for i in range(1035,1039):\n",
    "    final_corpus[i]['year: ']='1918'"
   ]
  },
  {
   "cell_type": "code",
   "execution_count": 28,
   "id": "9b292793",
   "metadata": {},
   "outputs": [
    {
     "data": {
      "text/plain": [
       "[]"
      ]
     },
     "execution_count": 28,
     "metadata": {},
     "output_type": "execute_result"
    }
   ],
   "source": [
    "#problem solved\n",
    "[(final_corpus.index(x),x['year: ']) for x in final_corpus if len(x['year: '])!=4]"
   ]
  },
  {
   "cell_type": "code",
   "execution_count": null,
   "id": "606111aa",
   "metadata": {},
   "outputs": [],
   "source": []
  }
 ],
 "metadata": {
  "kernelspec": {
   "display_name": "Python 3",
   "language": "python",
   "name": "python3"
  },
  "language_info": {
   "codemirror_mode": {
    "name": "ipython",
    "version": 3
   },
   "file_extension": ".py",
   "mimetype": "text/x-python",
   "name": "python",
   "nbconvert_exporter": "python",
   "pygments_lexer": "ipython3",
   "version": "3.8.8"
  }
 },
 "nbformat": 4,
 "nbformat_minor": 5
}

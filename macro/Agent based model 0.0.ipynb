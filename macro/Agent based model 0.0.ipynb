{
 "cells": [
  {
   "cell_type": "markdown",
   "id": "21e209d2",
   "metadata": {},
   "source": [
    "Modello giocattolo per testare attivazioni"
   ]
  },
  {
   "cell_type": "markdown",
   "id": "8ad27bb7",
   "metadata": {},
   "source": [
    "MODELING MODULES"
   ]
  },
  {
   "cell_type": "code",
   "execution_count": 1,
   "id": "126b973a",
   "metadata": {},
   "outputs": [],
   "source": [
    "from mesa import Agent, Model\n",
    "\n",
    "from mesa.time import RandomActivation\n",
    "from mesa.time import SimultaneousActivation\n",
    "from mesa.time import StagedActivation #dividere le azioni di un agenti (probabilmente inutile per noi)\n",
    "from mesa.time import BaseScheduler\n",
    "\n",
    "from mesa.space import MultiGrid\n",
    "\n",
    "\n",
    "class MyAgent(Agent):\n",
    "    def __init__(self, name, model):\n",
    "        super().__init__(name, model)\n",
    "        self.name = name\n",
    "\n",
    "    def step(self):\n",
    "        print(\"{} activated\".format(self.name))\n",
    "        # Whatever else the agent does when activated\n",
    "\n",
    "class MyModel(Model):      \n",
    "    \n",
    "    def __init__(self, n_agents):\n",
    "        super().__init__()\n",
    "        self.schedule = RandomActivation(self) #choose a schedular method\n",
    "        self.grid = MultiGrid(10, 10, torus=True)\n",
    "        for i in range(n_agents):\n",
    "            a = MyAgent(i, self)\n",
    "            self.schedule.add(a)\n",
    "            coords = (self.random.randrange(0, 10), self.random.randrange(0, 10))\n",
    "            self.grid.place_agent(a, coords)\n",
    "\n",
    "    def step(self):\n",
    "        self.schedule.step()    "
   ]
  },
  {
   "cell_type": "code",
   "execution_count": 2,
   "id": "0e45bd21",
   "metadata": {},
   "outputs": [
    {
     "name": "stdout",
     "output_type": "stream",
     "text": [
      "8 activated\n",
      "4 activated\n",
      "7 activated\n",
      "2 activated\n",
      "9 activated\n",
      "1 activated\n",
      "5 activated\n",
      "6 activated\n",
      "0 activated\n",
      "3 activated\n"
     ]
    }
   ],
   "source": [
    "model = MyModel(10)\n",
    "model.step()"
   ]
  },
  {
   "cell_type": "markdown",
   "id": "fa4867ac",
   "metadata": {},
   "source": [
    "scheludar method\n",
    "\n",
    "https://mesa.readthedocs.io/en/stable/_modules/mesa/time.html"
   ]
  },
  {
   "cell_type": "markdown",
   "id": "13e7eeaf",
   "metadata": {},
   "source": [
    "ANALYSIS MODULES"
   ]
  },
  {
   "cell_type": "code",
   "execution_count": 3,
   "id": "dd04c6d9",
   "metadata": {},
   "outputs": [],
   "source": [
    "from mesa.datacollection import DataCollector\n",
    "\n",
    "class MyAgent(Agent):\n",
    "    def __init__(self, name, model):\n",
    "        super().__init__(name, model)\n",
    "        self.name = name\n",
    "\n",
    "    def step(self):\n",
    "        print(\"{} activated\".format(self.name))\n",
    "        # Whatever else the agent does when activated\n",
    "\n",
    "class MyModel(Model):      \n",
    "    \n",
    "    def __init__(self, n_agents):\n",
    "        super().__init__()\n",
    "        self.schedule = BaseScheduler(self) #choose a schedular method\n",
    "        self.grid = MultiGrid(10, 10, torus=True)\n",
    "        for i in range(n_agents):\n",
    "            a = MyAgent(i, self)\n",
    "            self.schedule.add(a)\n",
    "            coords = (self.random.randrange(0, 10), self.random.randrange(0, 10))\n",
    "            self.grid.place_agent(a, coords)\n",
    "        self.dc = DataCollector(model_reporters={\"agent_count\":\n",
    "                                    lambda m: m.schedule.get_agent_count()},\n",
    "                                agent_reporters={\"name\": lambda a: a.name})\n",
    "\n",
    "    def step(self):\n",
    "        self.schedule.step() \n",
    "        self.dc.collect(self)"
   ]
  },
  {
   "cell_type": "code",
   "execution_count": 108,
   "id": "5c829892",
   "metadata": {},
   "outputs": [
    {
     "name": "stdout",
     "output_type": "stream",
     "text": [
      "0 activated\n",
      "1 activated\n",
      "2 activated\n",
      "3 activated\n",
      "4 activated\n",
      "0 activated\n",
      "1 activated\n",
      "2 activated\n",
      "3 activated\n",
      "4 activated\n",
      "0 activated\n",
      "1 activated\n",
      "2 activated\n",
      "3 activated\n",
      "4 activated\n",
      "0 activated\n",
      "1 activated\n",
      "2 activated\n",
      "3 activated\n",
      "4 activated\n",
      "0 activated\n",
      "1 activated\n",
      "2 activated\n",
      "3 activated\n",
      "4 activated\n"
     ]
    }
   ],
   "source": [
    "model = MyModel(5)\n",
    "for t in range(5):\n",
    "    model.step()\n",
    "model_df = model.dc.get_model_vars_dataframe() # sono uguali\n",
    "agent_df = model.dc.get_agent_vars_dataframe() # questi due comandi?"
   ]
  },
  {
   "cell_type": "code",
   "execution_count": 109,
   "id": "e697e00a",
   "metadata": {},
   "outputs": [
    {
     "name": "stderr",
     "output_type": "stream",
     "text": [
      "4it [00:00, 961.39it/s]"
     ]
    },
    {
     "name": "stdout",
     "output_type": "stream",
     "text": [
      "0 activated\n",
      "0 activated\n",
      "0 activated\n",
      "0 activated\n",
      "1 activated\n",
      "0 activated\n",
      "1 activated\n",
      "0 activated\n",
      "1 activated\n",
      "0 activated\n",
      "1 activated\n",
      "2 activated\n",
      "0 activated\n",
      "1 activated\n",
      "2 activated\n",
      "0 activated\n",
      "1 activated\n",
      "2 activated\n",
      "0 activated\n",
      "1 activated\n",
      "2 activated\n",
      "3 activated\n",
      "0 activated\n",
      "1 activated\n",
      "2 activated\n",
      "3 activated\n",
      "0 activated\n",
      "1 activated\n",
      "2 activated\n",
      "3 activated\n"
     ]
    },
    {
     "name": "stderr",
     "output_type": "stream",
     "text": [
      "\n"
     ]
    }
   ],
   "source": [
    "from mesa.batchrunner import BatchRunner\n",
    "\n",
    "parameters = {\"n_agents\": range(1, 5)} # il numero di agenti va da uno a 20\n",
    "batch_run = BatchRunner(MyModel, parameters, max_steps=3, # ogni ciclo a parametro fisso dura 10 step\n",
    "                        model_reporters={\"n_agents\": lambda m: m.schedule.get_agent_count()})\n",
    "batch_run.run_all()"
   ]
  },
  {
   "cell_type": "code",
   "execution_count": 100,
   "id": "e6934638",
   "metadata": {},
   "outputs": [],
   "source": [
    "batch_df = batch_run.get_model_vars_dataframe() #extract in a data frame"
   ]
  },
  {
   "cell_type": "markdown",
   "id": "cadb9642",
   "metadata": {},
   "source": [
    "VISUALIZATION MODULES (doesn't work)"
   ]
  },
  {
   "cell_type": "code",
   "execution_count": 102,
   "id": "9ab19f3c",
   "metadata": {},
   "outputs": [
    {
     "ename": "AttributeError",
     "evalue": "module 'asyncio' has no attribute 'WindowsSelectorEventLoopPolicy'",
     "output_type": "error",
     "traceback": [
      "\u001b[1;31m---------------------------------------------------------------------------\u001b[0m",
      "\u001b[1;31mAttributeError\u001b[0m                            Traceback (most recent call last)",
      "\u001b[1;32m<ipython-input-102-b01ea7dabbb0>\u001b[0m in \u001b[0;36m<module>\u001b[1;34m\u001b[0m\n\u001b[1;32m----> 1\u001b[1;33m \u001b[1;32mfrom\u001b[0m \u001b[0mmesa\u001b[0m\u001b[1;33m.\u001b[0m\u001b[0mvisualization\u001b[0m\u001b[1;33m.\u001b[0m\u001b[0mmodules\u001b[0m \u001b[1;32mimport\u001b[0m \u001b[0mCanvasGrid\u001b[0m\u001b[1;33m\u001b[0m\u001b[1;33m\u001b[0m\u001b[0m\n\u001b[0m\u001b[0;32m      2\u001b[0m \u001b[1;32mfrom\u001b[0m \u001b[0mmesa\u001b[0m\u001b[1;33m.\u001b[0m\u001b[0mvisualization\u001b[0m\u001b[1;33m.\u001b[0m\u001b[0mModularVisualization\u001b[0m \u001b[1;32mimport\u001b[0m \u001b[0mModularServer\u001b[0m\u001b[1;33m\u001b[0m\u001b[1;33m\u001b[0m\u001b[0m\n\u001b[0;32m      3\u001b[0m \u001b[1;33m\u001b[0m\u001b[0m\n\u001b[0;32m      4\u001b[0m \u001b[1;32mdef\u001b[0m \u001b[0magent_portrayal\u001b[0m\u001b[1;33m(\u001b[0m\u001b[0magent\u001b[0m\u001b[1;33m)\u001b[0m\u001b[1;33m:\u001b[0m\u001b[1;33m\u001b[0m\u001b[1;33m\u001b[0m\u001b[0m\n\u001b[0;32m      5\u001b[0m     portrayal = {\"Shape\": \"circle\",\n",
      "\u001b[1;32m~\\Desktop\\anaconda\\envs\\mesaenv\\lib\\site-packages\\mesa\\visualization\\modules\\__init__.py\u001b[0m in \u001b[0;36m<module>\u001b[1;34m\u001b[0m\n\u001b[0;32m      4\u001b[0m \"\"\"\n\u001b[0;32m      5\u001b[0m \u001b[1;33m\u001b[0m\u001b[0m\n\u001b[1;32m----> 6\u001b[1;33m \u001b[1;32mfrom\u001b[0m \u001b[0mmesa\u001b[0m\u001b[1;33m.\u001b[0m\u001b[0mvisualization\u001b[0m\u001b[1;33m.\u001b[0m\u001b[0mmodules\u001b[0m\u001b[1;33m.\u001b[0m\u001b[0mCanvasGridVisualization\u001b[0m \u001b[1;32mimport\u001b[0m \u001b[0mCanvasGrid\u001b[0m  \u001b[1;31m# noqa\u001b[0m\u001b[1;33m\u001b[0m\u001b[1;33m\u001b[0m\u001b[0m\n\u001b[0m\u001b[0;32m      7\u001b[0m \u001b[1;32mfrom\u001b[0m \u001b[0mmesa\u001b[0m\u001b[1;33m.\u001b[0m\u001b[0mvisualization\u001b[0m\u001b[1;33m.\u001b[0m\u001b[0mmodules\u001b[0m\u001b[1;33m.\u001b[0m\u001b[0mChartVisualization\u001b[0m \u001b[1;32mimport\u001b[0m \u001b[0mChartModule\u001b[0m  \u001b[1;31m# noqa\u001b[0m\u001b[1;33m\u001b[0m\u001b[1;33m\u001b[0m\u001b[0m\n\u001b[0;32m      8\u001b[0m \u001b[1;32mfrom\u001b[0m \u001b[0mmesa\u001b[0m\u001b[1;33m.\u001b[0m\u001b[0mvisualization\u001b[0m\u001b[1;33m.\u001b[0m\u001b[0mmodules\u001b[0m\u001b[1;33m.\u001b[0m\u001b[0mPieChartVisualization\u001b[0m \u001b[1;32mimport\u001b[0m \u001b[0mPieChartModule\u001b[0m  \u001b[1;31m# noqa\u001b[0m\u001b[1;33m\u001b[0m\u001b[1;33m\u001b[0m\u001b[0m\n",
      "\u001b[1;32m~\\Desktop\\anaconda\\envs\\mesaenv\\lib\\site-packages\\mesa\\visualization\\modules\\CanvasGridVisualization.py\u001b[0m in \u001b[0;36m<module>\u001b[1;34m\u001b[0m\n\u001b[0;32m      7\u001b[0m \"\"\"\n\u001b[0;32m      8\u001b[0m \u001b[1;32mfrom\u001b[0m \u001b[0mcollections\u001b[0m \u001b[1;32mimport\u001b[0m \u001b[0mdefaultdict\u001b[0m\u001b[1;33m\u001b[0m\u001b[1;33m\u001b[0m\u001b[0m\n\u001b[1;32m----> 9\u001b[1;33m \u001b[1;32mfrom\u001b[0m \u001b[0mmesa\u001b[0m\u001b[1;33m.\u001b[0m\u001b[0mvisualization\u001b[0m\u001b[1;33m.\u001b[0m\u001b[0mModularVisualization\u001b[0m \u001b[1;32mimport\u001b[0m \u001b[0mVisualizationElement\u001b[0m\u001b[1;33m\u001b[0m\u001b[1;33m\u001b[0m\u001b[0m\n\u001b[0m\u001b[0;32m     10\u001b[0m \u001b[1;33m\u001b[0m\u001b[0m\n\u001b[0;32m     11\u001b[0m \u001b[1;33m\u001b[0m\u001b[0m\n",
      "\u001b[1;32m~\\Desktop\\anaconda\\envs\\mesaenv\\lib\\site-packages\\mesa\\visualization\\ModularVisualization.py\u001b[0m in \u001b[0;36m<module>\u001b[1;34m\u001b[0m\n\u001b[0;32m    115\u001b[0m \u001b[1;31m# Change the event loop policy for windows\u001b[0m\u001b[1;33m\u001b[0m\u001b[1;33m\u001b[0m\u001b[1;33m\u001b[0m\u001b[0m\n\u001b[0;32m    116\u001b[0m \u001b[1;32mif\u001b[0m \u001b[0msys\u001b[0m\u001b[1;33m.\u001b[0m\u001b[0mplatform\u001b[0m \u001b[1;33m==\u001b[0m \u001b[1;34m\"win32\"\u001b[0m\u001b[1;33m:\u001b[0m\u001b[1;33m\u001b[0m\u001b[1;33m\u001b[0m\u001b[0m\n\u001b[1;32m--> 117\u001b[1;33m     \u001b[0masyncio\u001b[0m\u001b[1;33m.\u001b[0m\u001b[0mset_event_loop_policy\u001b[0m\u001b[1;33m(\u001b[0m\u001b[0masyncio\u001b[0m\u001b[1;33m.\u001b[0m\u001b[0mWindowsSelectorEventLoopPolicy\u001b[0m\u001b[1;33m(\u001b[0m\u001b[1;33m)\u001b[0m\u001b[1;33m)\u001b[0m\u001b[1;33m\u001b[0m\u001b[1;33m\u001b[0m\u001b[0m\n\u001b[0m\u001b[0;32m    118\u001b[0m \u001b[1;33m\u001b[0m\u001b[0m\n\u001b[0;32m    119\u001b[0m \u001b[1;33m\u001b[0m\u001b[0m\n",
      "\u001b[1;31mAttributeError\u001b[0m: module 'asyncio' has no attribute 'WindowsSelectorEventLoopPolicy'"
     ]
    }
   ],
   "source": [
    "from mesa.visualization.modules import CanvasGrid\n",
    "from mesa.visualization.ModularVisualization import ModularServer\n",
    "\n",
    "def agent_portrayal(agent):\n",
    "    portrayal = {\"Shape\": \"circle\",\n",
    "                 \"Filled\": \"true\",\n",
    "                 \"Layer\": 0,\n",
    "                 \"Color\": \"red\",\n",
    "                 \"r\": 0.5}\n",
    "    return portrayal\n",
    "\n",
    "grid = CanvasGrid(agent_portrayal, 10, 10, 500, 500)\n",
    "server = ModularServer(MyModel,\n",
    "                       [grid],\n",
    "                       \"My Model\",\n",
    "                       {'n_agents': 10})\n",
    "server.launch()"
   ]
  },
  {
   "cell_type": "code",
   "execution_count": null,
   "id": "083a74d6",
   "metadata": {},
   "outputs": [],
   "source": []
  }
 ],
 "metadata": {
  "kernelspec": {
   "display_name": "mesaenv",
   "language": "python",
   "name": "mesaenv"
  },
  "language_info": {
   "codemirror_mode": {
    "name": "ipython",
    "version": 3
   },
   "file_extension": ".py",
   "mimetype": "text/x-python",
   "name": "python",
   "nbconvert_exporter": "python",
   "pygments_lexer": "ipython3",
   "version": "3.6.13"
  }
 },
 "nbformat": 4,
 "nbformat_minor": 5
}
